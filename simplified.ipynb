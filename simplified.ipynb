{
 "cells": [
  {
   "cell_type": "code",
   "execution_count": 41,
   "metadata": {},
   "outputs": [
    {
     "name": "stdout",
     "output_type": "stream",
     "text": [
      "330975\n",
      "323486\n",
      "   userId  movieId  rating   timestamp\n",
      "0       1        1     4.0  1225734739\n",
      "1       1      110     4.0  1225865086\n",
      "2       1      158     4.0  1225733503\n",
      "4       1      356     5.0  1225735119\n",
      "8       1     1049     3.0  1225734079\n",
      "2983\n",
      "17626769\n"
     ]
    }
   ],
   "source": [
    "import torch\n",
    "torch.manual_seed(500)\n",
    "\n",
    "from torch import Tensor\n",
    "import csv\n",
    "import pandas as pd\n",
    "\n",
    "\n",
    "def read_movies():\n",
    "    # read csv with movies for budget and imdb_id\n",
    "    columns_of_interest = ['budget', 'imdb_id', 'revenue', 'vote_average', 'directors', 'vote_count', 'production_companies']\n",
    "    data = []\n",
    "    with open('./data/movie_data_tmbd.csv', 'r', encoding='utf-8') as file:\n",
    "        reader = csv.DictReader(file, delimiter='|')\n",
    "        for row in reader:\n",
    "            extracted_row = {col: row[col] for col in columns_of_interest}\n",
    "            data.append(extracted_row)\n",
    "\n",
    "    movies_budget_df = pd.DataFrame(data)\n",
    "    movies_budget_df = movies_budget_df.fillna({\n",
    "        'budget': 0,\n",
    "        'imdb_id': '',\n",
    "        'title': '',\n",
    "        'director': '',\n",
    "        'revenue': 0,\n",
    "        'vote_count': 0,\n",
    "    })\n",
    "\n",
    "    # merge movie budget with id\n",
    "    link_df = pd.read_csv(\"./data/links.csv\")\n",
    "    link_df['imdbId'] = link_df['imdbId'].apply(lambda x: f'tt0{int(x)}')\n",
    "\n",
    "    movies_id_df = pd.merge(movies_budget_df, link_df, left_on='imdb_id', right_on='imdbId', how='inner')\n",
    "    movies_id_df['budget'] = pd.to_numeric(movies_id_df['budget'])\n",
    "    movies_id_df['revenue'] = pd.to_numeric(movies_id_df['revenue'])\n",
    "    movies_id_df['vote_count'] = pd.to_numeric(movies_id_df['vote_count'])\n",
    "    movies_id_df = movies_id_df[movies_id_df.budget != 0]\n",
    "    movies_id_df = movies_id_df[movies_id_df.revenue != 0]\n",
    "\n",
    "    movies_info_df = pd.read_csv(\"./data/movies.csv\")\n",
    "    movies_df = pd.merge(movies_id_df, movies_info_df, on=\"movieId\", how=\"inner\")\n",
    "\n",
    "    ratings_df = pd.read_csv(\"./data/ratings.csv\")\n",
    "    random_seed = 42\n",
    "    data_subset = ratings_df.sample(frac=0.001, random_state=random_seed)  # Takes 10% of the data randomly\n",
    "    print(len(ratings_df['userId'].unique()))\n",
    "    #ratings_df = ratings_df.iloc[:ratings_df.shape[0]//5]\n",
    "    ratings_df = ratings_df[ratings_df['movieId'].isin(movies_df['movieId'])]\n",
    "    print(len(ratings_df['userId'].unique()))\n",
    "\n",
    "    return movies_df, ratings_df\n",
    "\n",
    "movies_df, ratings_df = read_movies()\n",
    "#print(movies_df.head())\n",
    "print(ratings_df.head())\n",
    "print(len(movies_df))\n",
    "print(len(ratings_df))"
   ]
  },
  {
   "cell_type": "code",
   "execution_count": 42,
   "metadata": {},
   "outputs": [
    {
     "name": "stdout",
     "output_type": "stream",
     "text": [
      "torch.Size([2983, 24])\n"
     ]
    },
    {
     "name": "stderr",
     "output_type": "stream",
     "text": [
      "/tmp/ipykernel_5790/438393435.py:4: FutureWarning: A value is trying to be set on a copy of a DataFrame or Series through chained assignment using an inplace method.\n",
      "The behavior will change in pandas 3.0. This inplace method will never work because the intermediate object on which we are setting values always behaves as a copy.\n",
      "\n",
      "For example, when doing 'df[col].method(value, inplace=True)', try using 'df.method({col: value}, inplace=True)' or df[col] = df[col].method(value) instead, to perform the operation inplace on the original object.\n",
      "\n",
      "\n",
      "  movies_df['vote_average'].fillna(5.0, inplace=True)\n"
     ]
    }
   ],
   "source": [
    "movies_df = movies_df[movies_df['movieId'].isin(ratings_df['movieId'])]\n",
    "genres = movies_df['genres'].str.get_dummies('|')\n",
    "movie_feat = torch.from_numpy(genres.values).to(torch.float)\n",
    "movies_df['vote_average'].fillna(5.0, inplace=True)\n",
    "\n",
    "vote_average = torch.from_numpy(movies_df['vote_average'].astype(float).values).to(torch.float).unsqueeze(-1)\n",
    "revenue = torch.from_numpy(movies_df['revenue'].values).to(torch.float).unsqueeze(-1)\n",
    "budget = torch.from_numpy(movies_df['budget'].values).to(torch.float).unsqueeze(-1)\n",
    "vote_count = torch.from_numpy(movies_df['vote_count'].values).to(torch.float).unsqueeze(-1)\n",
    "\n",
    "standardize = lambda x: (x - x.mean()) / x.std()\n",
    "\n",
    "vote_average = standardize(vote_average)\n",
    "revenue = standardize(revenue)\n",
    "budget = standardize(budget)\n",
    "vote_count = standardize(vote_count)\n",
    "\n",
    "movie_feat = torch.cat([movie_feat, vote_count, vote_average, revenue, budget], dim=1)\n",
    "\n",
    "print(movie_feat.shape)"
   ]
  },
  {
   "cell_type": "code",
   "execution_count": 43,
   "metadata": {},
   "outputs": [
    {
     "name": "stdout",
     "output_type": "stream",
     "text": [
      "     budget    imdb_id    revenue vote_average  \\\n",
      "0  30000000  tt0758752  102820008          7.0   \n",
      "0  30000000  tt0758752  102820008          7.0   \n",
      "0  30000000  tt0758752  102820008          7.0   \n",
      "0  30000000  tt0758752  102820008          7.0   \n",
      "0  30000000  tt0758752  102820008          7.0   \n",
      "\n",
      "                                           directors  vote_count  \\\n",
      "0  [{'credit_id': '52fe4640c3a36847f80f4a8b', 'de...        3339   \n",
      "0  [{'credit_id': '52fe4640c3a36847f80f4a8b', 'de...        3339   \n",
      "0  [{'credit_id': '52fe4640c3a36847f80f4a8b', 'de...        3339   \n",
      "0  [{'credit_id': '52fe4640c3a36847f80f4a8b', 'de...        3339   \n",
      "0  [{'credit_id': '52fe4640c3a36847f80f4a8b', 'de...        3339   \n",
      "\n",
      "                                production_companies  movieId     imdbId  \\\n",
      "0  {'id': 711, 'logo_path': '/tEiIH5QesdheJmDAqQw...    82167  tt0758752   \n",
      "0  {'id': 508, 'logo_path': '/7PzJdsLGlR7oW4J0J5X...    82167  tt0758752   \n",
      "0  {'id': 10104, 'logo_path': '/hNuGhsKVlmhnwSRcm...    82167  tt0758752   \n",
      "0  {'id': 4403, 'logo_path': None, 'name': 'Stube...    82167  tt0758752   \n",
      "0  {'id': 348, 'logo_path': None, 'name': 'Bedfor...    82167  tt0758752   \n",
      "\n",
      "    tmdbId                        title                genres  \n",
      "0  43347.0  Love and Other Drugs (2010)  Comedy|Drama|Romance  \n",
      "0  43347.0  Love and Other Drugs (2010)  Comedy|Drama|Romance  \n",
      "0  43347.0  Love and Other Drugs (2010)  Comedy|Drama|Romance  \n",
      "0  43347.0  Love and Other Drugs (2010)  Comedy|Drama|Romance  \n",
      "0  43347.0  Love and Other Drugs (2010)  Comedy|Drama|Romance  \n"
     ]
    }
   ],
   "source": [
    "from ast import literal_eval\n",
    "\n",
    "movies_df['production_companies'] = movies_df['production_companies'].apply(literal_eval)\n",
    "production_companies_expanded = movies_df.explode('production_companies').dropna()\n",
    "print(production_companies_expanded.head())"
   ]
  },
  {
   "cell_type": "code",
   "execution_count": 44,
   "metadata": {},
   "outputs": [],
   "source": [
    "# Normalize the directors' dictionary data into separate DataFrame columns\n",
    "if not production_companies_expanded['production_companies'].isnull().all():  # Check if all values are not None\n",
    "    production_companies_expanded[['production_company_id', 'production_company_name']] = production_companies_expanded['production_companies'].apply(lambda d: pd.Series({'id': d['id'], 'name': d['name']}) if pd.notna(d) else pd.Series({'id': None, 'name': None}))"
   ]
  },
  {
   "cell_type": "code",
   "execution_count": 45,
   "metadata": {},
   "outputs": [],
   "source": [
    "production_companies_expanded['vote_average'] = pd.to_numeric(production_companies_expanded['vote_average'], errors='coerce')\n",
    "\n",
    "# Group by production_company name and calculate mean ratings and count of movies\n",
    "production_company_stats = production_companies_expanded.groupby('production_company_id').agg({\n",
    "    'vote_average': ['mean', 'count']\n",
    "}).reset_index()\n",
    "\n",
    "# Flatten the multi-level column headers\n",
    "production_company_stats.columns = ['production_company', 'average_rating', 'movie_counts']\n",
    "company_stats_set = set(production_company_stats['production_company'].unique())\n",
    "production_company_stats = production_company_stats[['average_rating','movie_counts']]\n",
    "\n",
    "production_company_stats['average_rating'] = standardize(production_company_stats['average_rating'])\n",
    "production_company_stats['movie_counts'] = standardize(production_company_stats['movie_counts'])\n",
    "production_company_stats = torch.from_numpy(production_company_stats.values).to(torch.float)\n",
    "\n",
    "production_companies_expanded = production_companies_expanded[['movieId', 'production_company_name', 'production_company_id']]\n",
    "movies_extended_df = pd.merge(movies_df, production_companies_expanded, on='movieId', how='left')\n",
    "movies_extended_df = movies_extended_df.dropna(subset=['production_company_name'])\n",
    "\n",
    "unique_production_company_id = movies_extended_df['production_company_id'].unique()\n",
    "unique_production_company_id = pd.DataFrame(data={\n",
    "    'production_company_id': unique_production_company_id,\n",
    "    'mappedId': pd.RangeIndex(len(unique_production_company_id))\n",
    "})\n",
    "unique_movie_id = movies_extended_df['movieId'].unique()\n",
    "unique_movie_id = pd.DataFrame(data={\n",
    "    'movieId': unique_movie_id,\n",
    "    'mappedId': pd.RangeIndex(len(unique_movie_id))\n",
    "})\n",
    "\n",
    "production_company_production_company_id = pd.merge(movies_extended_df['production_company_id'], unique_production_company_id, on='production_company_id', how='left')\n",
    "production_company_production_company_id = torch.from_numpy(production_company_production_company_id['mappedId'].values)\n",
    "production_company_movie_id = pd.merge(movies_extended_df['movieId'], unique_movie_id, on='movieId', how='left')\n",
    "production_company_movie_id = torch.from_numpy(production_company_movie_id['mappedId'].values)\n",
    "\n",
    "edge_index_production_company_to_movie = torch.stack([production_company_production_company_id, production_company_movie_id], dim=0)"
   ]
  },
  {
   "cell_type": "code",
   "execution_count": 46,
   "metadata": {},
   "outputs": [
    {
     "name": "stdout",
     "output_type": "stream",
     "text": [
      "9360\n",
      "torch.Size([2, 9360])\n",
      "torch.Size([3328, 2])\n",
      "3328\n",
      "set()\n"
     ]
    }
   ],
   "source": [
    "\n",
    "print(len(production_companies_expanded['production_company_id']))\n",
    "print(edge_index_production_company_to_movie.shape)\n",
    "print(production_company_stats.shape)\n",
    "print(len(unique_production_company_id))\n",
    "print(set(movies_extended_df['production_company_id'].unique()) - company_stats_set)"
   ]
  },
  {
   "cell_type": "code",
   "execution_count": 47,
   "metadata": {},
   "outputs": [],
   "source": [
    "import pandas as pd\n",
    "from ast import literal_eval\n",
    "\n",
    "# Check if conversion is needed and perform it safely\n",
    "def safe_literal_eval(s):\n",
    "    try:\n",
    "        if isinstance(s, str):\n",
    "            return literal_eval(s)\n",
    "        else:\n",
    "            return s  # assuming s is already the correct format\n",
    "    except (ValueError, SyntaxError):\n",
    "        return None\n",
    "\n",
    "movies_df['directors'] = movies_df['directors'].apply(safe_literal_eval)\n",
    "\n",
    "# Explode the DataFrame on the 'directors' column if the data is correctly formatted as lists of dictionaries\n",
    "directors_expanded = movies_df.explode('directors').dropna()\n",
    "\n",
    "# Normalize the directors' dictionary data into separate DataFrame columns\n",
    "if not directors_expanded['directors'].isnull().all():  # Check if all values are not None\n",
    "    directors_expanded[['director_id', 'director_name']] = directors_expanded['directors'].apply(lambda d: pd.Series({'id': d['id'], 'name': d['name']}) if pd.notna(d) else pd.Series({'id': None, 'name': None}))\n",
    "else:\n",
    "    print(\"No valid director data available.\")\n",
    "\n",
    "directors_expanded['vote_average'] = pd.to_numeric(directors_expanded['vote_average'], errors='coerce')\n",
    "\n",
    "# Group by director name and calculate mean ratings and count of movies\n",
    "director_stats = directors_expanded.groupby('director_name').agg({\n",
    "    'vote_average': ['mean', 'count']\n",
    "}).reset_index()\n",
    "\n",
    "# Flatten the multi-level column headers\n",
    "director_stats.columns = ['director', 'average_rating', 'movie_counts']\n",
    "director_stats = director_stats[['average_rating','movie_counts']]\n",
    "\n",
    "director_stats['average_rating'] = standardize(director_stats['average_rating'])\n",
    "director_stats['movie_counts'] = standardize(director_stats['movie_counts'])\n",
    "director_stats = torch.from_numpy(director_stats.values).to(torch.float)\n",
    "\n",
    "directors_expanded = directors_expanded[['movieId', 'director_name', 'director_id']]\n",
    "movies_extended_df = pd.merge(movies_df, directors_expanded, on='movieId', how='left')\n",
    "movies_extended_df = movies_extended_df.dropna(subset=['director_name'])\n"
   ]
  },
  {
   "cell_type": "code",
   "execution_count": 48,
   "metadata": {},
   "outputs": [],
   "source": [
    "similar_users_df = pd.read_csv('./data/similar_users.csv')\n",
    "similar_users_df['user_id'] = pd.to_numeric(similar_users_df['user_id'])\n",
    "similar_users_df['similar_users'] = similar_users_df['similar_users'].apply(lambda x: list(map(int, x.split(','))))\n",
    "\n",
    "similar_users_expanded = similar_users_df.explode('similar_users')\n",
    "\n",
    "# construct a compact representation of the data\n",
    "unique_user_id = similar_users_expanded['user_id'].unique()\n",
    "unique_user_id = pd.DataFrame(data={\n",
    "    'user_id': unique_user_id,\n",
    "    'mappedId': pd.RangeIndex(len(unique_user_id)),\n",
    "})\n",
    "unique_movie_id = similar_users_expanded['similar_users'].unique()\n",
    "unique_movie_id = pd.DataFrame(data={\n",
    "    'similar_users': unique_movie_id,\n",
    "    'mappedId': pd.RangeIndex(len(unique_movie_id)),\n",
    "})\n",
    "\n",
    "user_id = pd.merge(similar_users_expanded['user_id'], unique_user_id, on='user_id', how='left')\n",
    "user_id = torch.from_numpy(user_id['mappedId'].values)\n",
    "similar_user_id = pd.merge(similar_users_expanded['similar_users'], unique_movie_id, on='similar_users', how='left')\n",
    "similar_user_id = torch.from_numpy(similar_user_id['mappedId'].values)\n",
    "\n",
    "edge_index_user_to_similar_user= torch.stack([user_id, similar_user_id], dim=0)"
   ]
  },
  {
   "cell_type": "code",
   "execution_count": 49,
   "metadata": {},
   "outputs": [
    {
     "name": "stdout",
     "output_type": "stream",
     "text": [
      "45\n",
      "45\n",
      "323486\n"
     ]
    }
   ],
   "source": [
    "print(len(edge_index_user_to_similar_user.unique()))\n",
    "print(len(unique_user_id))\n",
    "print(len(ratings_df['userId'].unique()))"
   ]
  },
  {
   "cell_type": "code",
   "execution_count": 50,
   "metadata": {},
   "outputs": [],
   "source": [
    "unique_director_id = movies_extended_df['director_id'].unique()\n",
    "unique_director_id = pd.DataFrame(data={\n",
    "    'director_id': unique_director_id,\n",
    "    'mappedId': pd.RangeIndex(len(unique_director_id))\n",
    "})\n",
    "unique_movie_id = movies_extended_df['movieId'].unique()\n",
    "unique_movie_id = pd.DataFrame(data={\n",
    "    'movieId': unique_movie_id,\n",
    "    'mappedId': pd.RangeIndex(len(unique_movie_id))\n",
    "})\n",
    "\n",
    "director_director_id = pd.merge(movies_extended_df['director_id'], unique_director_id, on='director_id', how='left')\n",
    "director_director_id = torch.from_numpy(director_director_id['mappedId'].values)\n",
    "director_movie_id = pd.merge(movies_extended_df['movieId'], unique_movie_id, on='movieId', how='left')\n",
    "director_movie_id = torch.from_numpy(director_movie_id['mappedId'].values)\n",
    "\n",
    "edge_index_director_to_movie = torch.stack([director_director_id, director_movie_id], dim=0)"
   ]
  },
  {
   "cell_type": "code",
   "execution_count": 51,
   "metadata": {},
   "outputs": [],
   "source": [
    "# construct a compact representation of the data\n",
    "unique_user_id = ratings_df['userId'].unique()\n",
    "unique_user_id = pd.DataFrame(data={\n",
    "    'userId': unique_user_id,\n",
    "    'mappedId': pd.RangeIndex(len(unique_user_id)),\n",
    "})\n",
    "unique_movie_id = ratings_df['movieId'].unique()\n",
    "unique_movie_id = pd.DataFrame(data={\n",
    "    'movieId': unique_movie_id,\n",
    "    'mappedId': pd.RangeIndex(len(unique_movie_id)),\n",
    "})\n",
    "\n",
    "ratings_user_id = pd.merge(ratings_df['userId'], unique_user_id, on='userId', how='left')\n",
    "ratings_user_id = torch.from_numpy(ratings_user_id['mappedId'].values)\n",
    "ratings_movie_id = pd.merge(ratings_df['movieId'], unique_movie_id, on='movieId', how='left')\n",
    "ratings_movie_id = torch.from_numpy(ratings_movie_id['mappedId'].values)\n",
    "\n",
    "edge_index_user_to_movie = torch.stack([ratings_user_id, ratings_movie_id], dim=0)"
   ]
  },
  {
   "cell_type": "code",
   "execution_count": 52,
   "metadata": {},
   "outputs": [
    {
     "name": "stdout",
     "output_type": "stream",
     "text": [
      "HeteroData(\n",
      "  user={ node_id=[323486] },\n",
      "  movie={\n",
      "    node_id=[2983],\n",
      "    x=[2983, 24],\n",
      "  },\n",
      "  director={\n",
      "    node_id=[1606],\n",
      "    x=[1606, 2],\n",
      "  },\n",
      "  production_company={\n",
      "    node_id=[3328],\n",
      "    x=[3328, 2],\n",
      "  },\n",
      "  (user, rates, movie)={ edge_index=[2, 8618312] },\n",
      "  (director, directs, movie)={ edge_index=[2, 3193] },\n",
      "  (production_company, produces, movie)={ edge_index=[2, 9360] },\n",
      "  (user, similar, user)={ edge_index=[2, 432] },\n",
      "  (movie, rev_rates, user)={ edge_index=[2, 8618312] },\n",
      "  (movie, rev_directs, director)={ edge_index=[2, 3193] },\n",
      "  (movie, rev_produces, production_company)={ edge_index=[2, 9360] }\n",
      ")\n"
     ]
    }
   ],
   "source": [
    "from torch_geometric.data import HeteroData\n",
    "import torch_geometric.transforms as T\n",
    "\n",
    "data = HeteroData()\n",
    "# save node indices\n",
    "data['user'].node_id = torch.arange(len(unique_user_id))\n",
    "data['movie'].node_id = torch.arange(len(unique_movie_id))\n",
    "data['director'].node_id = torch.arange(len(unique_director_id))\n",
    "data['production_company'].node_id = torch.arange(len(unique_production_company_id))\n",
    "\n",
    "# add node features\n",
    "data['movie'].x = movie_feat\n",
    "data['director'].x = director_stats\n",
    "data['production_company'].x = production_company_stats\n",
    "\n",
    "data['user', 'rates', 'movie'].edge_index = edge_index_user_to_movie\n",
    "data['user', 'rates', 'movie'].edge_label = torch.from_numpy(ratings_df['rating'].values).to(torch.long) # TODO: this cuts off the .5 steps\n",
    "mask = data['user', 'rates', 'movie'].edge_label >= 4\n",
    "del data['user', 'rates', 'movie'].edge_label \n",
    "data['user', 'rates', 'movie'].edge_index = data['user', 'rates', 'movie'].edge_index[:, mask]\n",
    "\n",
    "data['director', 'directs', 'movie'].edge_index = edge_index_director_to_movie\n",
    "data['production_company', 'produces', 'movie'].edge_index = edge_index_production_company_to_movie\n",
    "data['user', 'similar', 'user'].edge_index = edge_index_user_to_similar_user\n",
    "\n",
    "\n",
    "data = T.ToUndirected()(data)\n",
    "\n",
    "print(data)"
   ]
  },
  {
   "cell_type": "code",
   "execution_count": 53,
   "metadata": {},
   "outputs": [
    {
     "data": {
      "text/plain": [
       "True"
      ]
     },
     "execution_count": 53,
     "metadata": {},
     "output_type": "execute_result"
    }
   ],
   "source": [
    "data.has_self_loops()"
   ]
  },
  {
   "cell_type": "code",
   "execution_count": 54,
   "metadata": {},
   "outputs": [
    {
     "name": "stdout",
     "output_type": "stream",
     "text": [
      "tensor([1., 1., 1., 1., 1., 1., 1., 1., 1., 1., 1., 1., 1., 1., 1., 1., 1., 1.,\n",
      "        1., 1., 1., 1., 1., 1., 1., 1., 1., 1., 1., 1., 1., 1., 1., 1., 1., 1.,\n",
      "        1., 1., 1., 1., 1., 1., 1., 1., 1., 1., 1., 1., 1., 1., 1., 1., 1., 1.,\n",
      "        1., 1., 1., 1., 1., 1., 1., 1., 1., 1., 1., 1., 1., 1., 1., 1., 1., 1.,\n",
      "        1., 1., 1., 1., 1., 1., 1., 1., 1., 1., 1., 1., 1., 1., 1., 1., 1., 1.,\n",
      "        1., 1., 1., 1., 1., 1., 1., 1., 1., 1., 1., 1., 1., 1., 1., 1., 1., 1.,\n",
      "        1., 1., 1., 1., 1., 1., 1., 1., 1., 1., 1., 1., 1., 1., 1., 1., 1., 1.,\n",
      "        1., 1., 0., 0., 0., 0., 0., 0., 0., 0., 0., 0., 0., 0., 0., 0., 0., 0.,\n",
      "        0., 0., 0., 0., 0., 0., 0., 0., 0., 0., 0., 0., 0., 0., 0., 0., 0., 0.,\n",
      "        0., 0., 0., 0., 0., 0., 0., 0., 0., 0., 0., 0., 0., 0., 0., 0., 0., 0.,\n",
      "        0., 0., 0., 0., 0., 0., 0., 0., 0., 0., 0., 0., 0., 0., 0., 0., 0., 0.,\n",
      "        0., 0., 0., 0., 0., 0., 0., 0., 0., 0., 0., 0., 0., 0., 0., 0., 0., 0.,\n",
      "        0., 0., 0., 0., 0., 0., 0., 0., 0., 0., 0., 0., 0., 0., 0., 0., 0., 0.,\n",
      "        0., 0., 0., 0., 0., 0., 0., 0., 0., 0., 0., 0., 0., 0., 0., 0., 0., 0.,\n",
      "        0., 0., 0., 0., 0., 0., 0., 0., 0., 0., 0., 0., 0., 0., 0., 0., 0., 0.,\n",
      "        0., 0., 0., 0., 0., 0., 0., 0., 0., 0., 0., 0., 0., 0., 0., 0., 0., 0.,\n",
      "        0., 0., 0., 0., 0., 0., 0., 0., 0., 0., 0., 0., 0., 0., 0., 0., 0., 0.,\n",
      "        0., 0., 0., 0., 0., 0., 0., 0., 0., 0., 0., 0., 0., 0., 0., 0., 0., 0.,\n",
      "        0., 0., 0., 0., 0., 0., 0., 0., 0., 0., 0., 0., 0., 0., 0., 0., 0., 0.,\n",
      "        0., 0., 0., 0., 0., 0., 0., 0., 0., 0., 0., 0., 0., 0., 0., 0., 0., 0.,\n",
      "        0., 0., 0., 0., 0., 0., 0., 0., 0., 0., 0., 0., 0., 0., 0., 0., 0., 0.,\n",
      "        0., 0., 0., 0., 0., 0.])\n"
     ]
    }
   ],
   "source": [
    "transform = T.RandomLinkSplit(\n",
    "    num_val=0.1,\n",
    "    num_test=0.1,\n",
    "    disjoint_train_ratio=0.3,\n",
    "    neg_sampling_ratio=2.0,\n",
    "    add_negative_train_samples=False,\n",
    "    edge_types=[(\"user\", \"rates\", \"movie\"), (\"director\", \"directs\", \"movie\"), (\"production_company\", \"produces\", \"movie\"), (\"user\", \"similar\", \"user\")],\n",
    "    rev_edge_types=[(\"movie\", \"rev_rates\", \"user\"), (\"movie\", \"rev_directs\", \"director\"), (\"movie\", \"rev_produces\", 'production_company'), None],\n",
    ")\n",
    "train_data, val_data, test_data = transform(data)\n",
    "\n",
    "from torch_geometric.loader import LinkNeighborLoader\n",
    "# Example configuration with correct tuple formatting for edge_label_index:\n",
    "train_loader = LinkNeighborLoader(\n",
    "    data=train_data,\n",
    "    num_neighbors=[10,10,10],\n",
    "    edge_label_index=(('user', 'rates', 'movie'), train_data['user', 'rates', 'movie'].edge_label_index),  # Correct tuple format\n",
    "    edge_label=train_data['user', 'rates', 'movie'].edge_label,  # Labels for the edges\n",
    "    batch_size=128,\n",
    "    shuffle=True,\n",
    "    neg_sampling_ratio=2.0  # Example negative sampling ratio\n",
    ")\n",
    "\n",
    "# Define the validation seed edges:\n",
    "edge_label_index = val_data[\"user\", \"rates\", \"movie\"].edge_label_index\n",
    "edge_label = val_data[\"user\", \"rates\", \"movie\"].edge_label\n",
    "val_loader = LinkNeighborLoader(\n",
    "    data=val_data,\n",
    "    num_neighbors=[10,10,10],\n",
    "    edge_label_index=((\"user\", \"rates\", \"movie\"), edge_label_index),\n",
    "    edge_label=edge_label,\n",
    "    batch_size=128*3,\n",
    "    shuffle=False,\n",
    ")\n",
    "print(next(iter(train_loader))['user', 'rates', 'movie'].edge_label)"
   ]
  },
  {
   "cell_type": "code",
   "execution_count": 55,
   "metadata": {},
   "outputs": [
    {
     "name": "stdout",
     "output_type": "stream",
     "text": [
      "Model(\n",
      "  (movie_lin): Linear(in_features=24, out_features=64, bias=True)\n",
      "  (director_lin): Linear(in_features=2, out_features=64, bias=True)\n",
      "  (production_company_lin): Linear(in_features=2, out_features=64, bias=True)\n",
      "  (user_emb): Embedding(323486, 64)\n",
      "  (movie_emb): Embedding(2983, 64)\n",
      "  (director_emb): Embedding(1606, 64)\n",
      "  (production_company_emb): Embedding(3328, 64)\n",
      "  (gnn): GraphModule(\n",
      "    (conv): ModuleList(\n",
      "      (0-1): 2 x ModuleDict(\n",
      "        (user__rates__movie): SAGEConv(64, 64, aggr=mean)\n",
      "        (director__directs__movie): SAGEConv(64, 64, aggr=mean)\n",
      "        (production_company__produces__movie): SAGEConv(64, 64, aggr=mean)\n",
      "        (user__similar__user): SAGEConv(64, 64, aggr=mean)\n",
      "        (movie__rev_rates__user): SAGEConv(64, 64, aggr=mean)\n",
      "        (movie__rev_directs__director): SAGEConv(64, 64, aggr=mean)\n",
      "        (movie__rev_produces__production_company): SAGEConv(64, 64, aggr=mean)\n",
      "      )\n",
      "    )\n",
      "    (batch_norm): BatchNorm1d(64, eps=1e-05, momentum=0.1, affine=True, track_running_stats=True)\n",
      "  )\n",
      "  (classifier): Classifier(\n",
      "    (fc1): Linear(in_features=128, out_features=64, bias=True)\n",
      "    (relu): ReLU()\n",
      "    (fc2): Linear(in_features=64, out_features=1, bias=True)\n",
      "  )\n",
      ")\n"
     ]
    }
   ],
   "source": [
    "from torch_geometric.nn import GraphConv, to_hetero, SAGEConv, GraphSAGE\n",
    "\n",
    "class GNN(torch.nn.Module):\n",
    "    def __init__(self, num_features, hidden_dim, layers):\n",
    "        super().__init__()\n",
    "        input_dim = num_features\n",
    "        self.conv = torch.nn.ModuleList()\n",
    "        self.batch_norm = torch.nn.BatchNorm1d(hidden_dim)\n",
    "        for _ in range(layers):\n",
    "            self.conv.append(SAGEConv(input_dim, hidden_dim))\n",
    "            input_dim = hidden_dim\n",
    "    \n",
    "    def forward(self, x, edge_index):#, edge_weight):\n",
    "        for layer in self.conv:\n",
    "            x = layer(x, edge_index)\n",
    "            # x = torch.dropout(x, 0.1, True)\n",
    "            # x = self.batch_norm(x)\n",
    "            x = torch.relu(x)\n",
    "        return x\n",
    "\n",
    "class Classifier(torch.nn.Module):\n",
    "    def __init__(self, hidden_dim):\n",
    "        super().__init__()\n",
    "        self.fc1 = torch.nn.Linear(2*hidden_dim, hidden_dim)\n",
    "        self.relu = torch.nn.ReLU()\n",
    "        self.fc2 = torch.nn.Linear(hidden_dim, 1)  # Final layer for link prediction\n",
    "\n",
    "    def forward(self, x_user: Tensor, x_movie: Tensor, edge_label_index: Tensor) -> Tensor:\n",
    "        # Extract features for users and movies according to the edge indices\n",
    "        edge_feat_user = x_user[edge_label_index[0]]\n",
    "        edge_feat_movie = x_movie[edge_label_index[1]]\n",
    "\n",
    "        # Concatenate user and movie features\n",
    "        x = torch.cat((edge_feat_user, edge_feat_movie), dim=1)  # Concatenation along the feature dimension\n",
    "\n",
    "        # Pass the concatenated vector through the dense layers\n",
    "        x = self.fc1(x)\n",
    "        x = self.relu(x)\n",
    "        x = self.fc2(x)\n",
    "        return x.view(-1)\n",
    "\n",
    "\n",
    "class Model(torch.nn.Module):\n",
    "    # TODO: add data in function header?\n",
    "    def __init__(self, num_features, hidden_dim, layers):\n",
    "        super().__init__()\n",
    "        self.movie_lin = torch.nn.Linear(24, hidden_dim) # TODO: thats the number of neighbors?\n",
    "        self.director_lin = torch.nn.Linear(2, hidden_dim)\n",
    "        self.production_company_lin = torch.nn.Linear(2, hidden_dim)\n",
    "        self.user_emb = torch.nn.Embedding(data['user'].num_nodes, hidden_dim)\n",
    "        self.movie_emb = torch.nn.Embedding(data['movie'].num_nodes, hidden_dim)\n",
    "        self.director_emb = torch.nn.Embedding(data['director'].num_nodes, hidden_dim)\n",
    "        self.production_company_emb = torch.nn.Embedding(data['production_company'].num_nodes, hidden_dim)\n",
    "        self.gnn = GNN(num_features, hidden_dim, layers)\n",
    "        self.gnn = to_hetero(self.gnn, metadata=data.metadata(), aggr='sum')\n",
    "        self.classifier = Classifier(hidden_dim)\n",
    "\n",
    "    def forward(self, data:HeteroData) -> Tensor:\n",
    "        x_dict = {\n",
    "            \"user\": self.user_emb(data['user'].node_id),\n",
    "            \"movie\": self.movie_lin(data['movie'].x) + self.movie_emb(data['movie'].node_id),\n",
    "            \"director\": self.director_lin(data['director'].x) + self.director_emb(data['director'].node_id),\n",
    "            \"production_company\": self.production_company_lin(data['production_company'].x) + self.production_company_emb(data['production_company'].node_id) \n",
    "        }\n",
    "        x_dict = self.gnn(x_dict, data.edge_index_dict)#, data.edge_weight_dict)\n",
    "        pred = self.classifier(\n",
    "            x_dict[\"user\"],\n",
    "            x_dict[\"movie\"],\n",
    "            data[\"user\", \"rates\", \"movie\"].edge_label_index,\n",
    "        )\n",
    "        return pred\n",
    "\n",
    "model = Model(64, 64, 2)\n",
    "print(model)"
   ]
  },
  {
   "cell_type": "code",
   "execution_count": 56,
   "metadata": {},
   "outputs": [
    {
     "data": {
      "text/plain": [
       "(['user', 'movie', 'director', 'production_company'],\n",
       " [('user', 'rates', 'movie'),\n",
       "  ('director', 'directs', 'movie'),\n",
       "  ('production_company', 'produces', 'movie'),\n",
       "  ('user', 'similar', 'user'),\n",
       "  ('movie', 'rev_rates', 'user'),\n",
       "  ('movie', 'rev_directs', 'director'),\n",
       "  ('movie', 'rev_produces', 'production_company')])"
      ]
     },
     "execution_count": 56,
     "metadata": {},
     "output_type": "execute_result"
    }
   ],
   "source": [
    "data.metadata()"
   ]
  },
  {
   "cell_type": "code",
   "execution_count": 57,
   "metadata": {},
   "outputs": [
    {
     "name": "stdout",
     "output_type": "stream",
     "text": [
      "Device: cuda\n"
     ]
    },
    {
     "name": "stderr",
     "output_type": "stream",
     "text": [
      "100%|█████████████████████| 16160/16160 [03:55<00:00, 68.68it/s]\n"
     ]
    },
    {
     "name": "stdout",
     "output_type": "stream",
     "text": [
      "Epoch 001, Loss: 0.8190, Validation AUC: 0.9586\n"
     ]
    },
    {
     "name": "stderr",
     "output_type": "stream",
     "text": [
      "100%|█████████████████████| 16160/16160 [03:50<00:00, 70.12it/s]\n"
     ]
    },
    {
     "name": "stdout",
     "output_type": "stream",
     "text": [
      "Epoch 002, Loss: 0.6999, Validation AUC: 0.9649\n"
     ]
    },
    {
     "name": "stderr",
     "output_type": "stream",
     "text": [
      "100%|█████████████████████| 16160/16160 [03:51<00:00, 69.88it/s]\n"
     ]
    },
    {
     "name": "stdout",
     "output_type": "stream",
     "text": [
      "Epoch 003, Loss: 0.6630, Validation AUC: 0.9661\n"
     ]
    },
    {
     "name": "stderr",
     "output_type": "stream",
     "text": [
      "  5%|█                      | 741/16160 [00:10<03:41, 69.58it/s]\n"
     ]
    },
    {
     "ename": "KeyboardInterrupt",
     "evalue": "",
     "output_type": "error",
     "traceback": [
      "\u001b[0;31m---------------------------------------------------------------------------\u001b[0m",
      "\u001b[0;31mKeyboardInterrupt\u001b[0m                         Traceback (most recent call last)",
      "Cell \u001b[0;32mIn[57], line 26\u001b[0m\n\u001b[1;32m     24\u001b[0m     loss\u001b[38;5;241m.\u001b[39mbackward()\n\u001b[1;32m     25\u001b[0m     optimizer\u001b[38;5;241m.\u001b[39mstep()\n\u001b[0;32m---> 26\u001b[0m     total_loss \u001b[38;5;241m+\u001b[39m\u001b[38;5;241m=\u001b[39m \u001b[43mloss\u001b[49m\u001b[38;5;241;43m.\u001b[39;49m\u001b[43mitem\u001b[49m\u001b[43m(\u001b[49m\u001b[43m)\u001b[49m \u001b[38;5;241m*\u001b[39m label\u001b[38;5;241m.\u001b[39msize(\u001b[38;5;241m0\u001b[39m) \u001b[38;5;66;03m# TODO: numel?!\u001b[39;00m\n\u001b[1;32m     27\u001b[0m     total_examples \u001b[38;5;241m+\u001b[39m\u001b[38;5;241m=\u001b[39m label\u001b[38;5;241m.\u001b[39msize(\u001b[38;5;241m0\u001b[39m)\n\u001b[1;32m     30\u001b[0m \u001b[38;5;66;03m# Validation phase\u001b[39;00m\n",
      "\u001b[0;31mKeyboardInterrupt\u001b[0m: "
     ]
    }
   ],
   "source": [
    "import tqdm\n",
    "import torch.nn.functional as F\n",
    "from sklearn.metrics import roc_auc_score, confusion_matrix\n",
    "\n",
    "device = torch.device(\"cuda\" if torch.cuda.is_available() else 'cpu')\n",
    "print(f'Device: {device}')\n",
    "\n",
    "#model = torch.load(\"./model/auc_8092.pt\")\n",
    "model = model.to(device)\n",
    "optimizer = torch.optim.Adam(model.parameters(), lr=0.001)\n",
    "save = False\n",
    "\n",
    "\n",
    "for epoch in range(150):\n",
    "    total_loss = 0\n",
    "    total_examples = 0\n",
    "    model.train()\n",
    "    for train_sample in tqdm.tqdm(train_loader):\n",
    "        optimizer.zero_grad()\n",
    "        train_sample.to(device)\n",
    "        pred = model(train_sample)\n",
    "        label = train_sample['user', 'rates', 'movie'].edge_label\n",
    "        loss = F.binary_cross_entropy_with_logits(pred, label)\n",
    "        loss.backward()\n",
    "        optimizer.step()\n",
    "        total_loss += loss.item() * label.size(0) # TODO: numel?!\n",
    "        total_examples += label.size(0)\n",
    "\n",
    "    \n",
    "    # Validation phase\n",
    "    model.eval()\n",
    "    preds = []\n",
    "    ground_truths = []\n",
    "    for sampled_data in val_loader:\n",
    "        with torch.no_grad():\n",
    "            sampled_data.to(device)\n",
    "            preds.append(model(sampled_data))\n",
    "            ground_truths.append(sampled_data[\"user\", \"rates\", \"movie\"].edge_label)\n",
    "    #pred = torch.sigmoid(pred)\n",
    "    pred = torch.cat(preds, dim=0).cpu().numpy()\n",
    "    ground_truth = torch.cat(ground_truths, dim=0).cpu().numpy()\n",
    "    auc = roc_auc_score(ground_truth, pred)\n",
    "    if epoch % 1 == 0:\n",
    "        print(f'Epoch {epoch + 1:03d}, Loss: {total_loss / len(train_loader.dataset):.4f}, Validation AUC: {auc:.4f}')\n",
    "\n",
    "if save: torch.save(model, f\"./model/auc_{int(auc*10000)}.pt\")"
   ]
  },
  {
   "cell_type": "code",
   "execution_count": null,
   "metadata": {},
   "outputs": [],
   "source": []
  },
  {
   "cell_type": "code",
   "execution_count": null,
   "metadata": {},
   "outputs": [],
   "source": []
  }
 ],
 "metadata": {
  "kernelspec": {
   "display_name": "Python 3 (ipykernel)",
   "language": "python",
   "name": "python3"
  },
  "language_info": {
   "codemirror_mode": {
    "name": "ipython",
    "version": 3
   },
   "file_extension": ".py",
   "mimetype": "text/x-python",
   "name": "python",
   "nbconvert_exporter": "python",
   "pygments_lexer": "ipython3",
   "version": "3.10.12"
  }
 },
 "nbformat": 4,
 "nbformat_minor": 2
}
