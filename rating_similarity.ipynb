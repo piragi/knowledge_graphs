{
 "cells": [
  {
   "cell_type": "code",
   "execution_count": 9,
   "metadata": {},
   "outputs": [
    {
     "name": "stdout",
     "output_type": "stream",
     "text": [
      "610\n",
      "609\n"
     ]
    }
   ],
   "source": [
    "import torch\n",
    "torch.manual_seed(500)\n",
    "\n",
    "from torch import Tensor\n",
    "import csv\n",
    "import pandas as pd\n",
    "\n",
    "\n",
    "def read_movies():\n",
    "    # read csv with movies for budget and imdb_id\n",
    "    columns_of_interest = ['budget', 'imdb_id', 'revenue', 'vote_average', 'directors', 'vote_count', 'production_companies']\n",
    "    data = []\n",
    "    with open('./data/movie_data_tmbd.csv', 'r', encoding='utf-8') as file:\n",
    "        reader = csv.DictReader(file, delimiter='|')\n",
    "        for row in reader:\n",
    "            extracted_row = {col: row[col] for col in columns_of_interest}\n",
    "            data.append(extracted_row)\n",
    "\n",
    "    movies_budget_df = pd.DataFrame(data)\n",
    "    movies_budget_df = movies_budget_df.fillna({\n",
    "        'budget': 0,\n",
    "        'imdb_id': '',\n",
    "        'title': '',\n",
    "        'director': '',\n",
    "        'revenue': 0,\n",
    "        'vote_count': 0,\n",
    "    })\n",
    "\n",
    "    # merge movie budget with id\n",
    "    link_df = pd.read_csv(\"./data/small/links.csv\")\n",
    "    link_df['imdbId'] = link_df['imdbId'].apply(lambda x: f'tt0{int(x)}')\n",
    "\n",
    "    movies_id_df = pd.merge(movies_budget_df, link_df, left_on='imdb_id', right_on='imdbId', how='inner')\n",
    "    movies_id_df['budget'] = pd.to_numeric(movies_id_df['budget'])\n",
    "    movies_id_df['revenue'] = pd.to_numeric(movies_id_df['revenue'])\n",
    "    movies_id_df['vote_count'] = pd.to_numeric(movies_id_df['vote_count'])\n",
    "    movies_id_df = movies_id_df[movies_id_df.budget != 0]\n",
    "    movies_id_df = movies_id_df[movies_id_df.revenue != 0]\n",
    "\n",
    "    movies_info_df = pd.read_csv(\"./data/small/movies.csv\")\n",
    "    movies_df = pd.merge(movies_id_df, movies_info_df, on=\"movieId\", how=\"inner\")\n",
    "\n",
    "    ratings_df = pd.read_csv(\"./data/small/ratings.csv\")\n",
    "    print(len(ratings_df['userId'].unique()))\n",
    "    #ratings_df = ratings_df.iloc[:ratings_df.shape[0]//5]\n",
    "    ratings_df = ratings_df[ratings_df['movieId'].isin(movies_df['movieId'])]\n",
    "    print(len(ratings_df['userId'].unique()))\n",
    "\n",
    "    return movies_df, ratings_df\n",
    "\n",
    "movies_df, ratings_df = read_movies()"
   ]
  },
  {
   "cell_type": "code",
   "execution_count": 10,
   "metadata": {},
   "outputs": [
    {
     "name": "stdout",
     "output_type": "stream",
     "text": [
      "   user_id            similar_users\n",
      "0       28  434, 432, 387, 189, 427\n",
      "1       58  382, 414, 570, 275, 250\n",
      "2       87  597, 414, 147, 259, 570\n",
      "3       96  372, 447, 456, 387, 580\n",
      "4      103  594, 339, 250, 490, 318\n",
      "User not found.\n",
      "Top 5 similar users to User 1:\n",
      "None\n"
     ]
    }
   ],
   "source": [
    "import pandas as pd\n",
    "from sklearn.decomposition import TruncatedSVD\n",
    "from sklearn.metrics.pairwise import cosine_similarity\n",
    "\n",
    "# Load data\n",
    "# Assume ratings_df is pre-loaded as your full dataset\n",
    "random_seed = 42\n",
    "data_subset = ratings_df.sample(frac=0.001, random_state=random_seed)  # Takes 10% of the data randomly\n",
    "\n",
    "# Create user-item matrix from the subset\n",
    "user_item_matrix = data_subset.pivot_table(index='userId', columns='movieId', values='rating').fillna(0)\n",
    "\n",
    "# Configure Truncated SVD\n",
    "n_components = 50\n",
    "svd = TruncatedSVD(n_components=n_components)\n",
    "\n",
    "# Fit SVD to the data\n",
    "user_features = svd.fit_transform(user_item_matrix)\n",
    "\n",
    "# Compute cosine similarity matrix\n",
    "similarity_matrix = cosine_similarity(user_features)\n",
    "\n",
    "# Convert to DataFrame for easier handling\n",
    "similarity_df = pd.DataFrame(similarity_matrix, index=user_item_matrix.index, columns=user_item_matrix.index)\n",
    "\n",
    "def get_similar_users(user_id, similarity_df, top_n=5):\n",
    "    if user_id not in similarity_df.index:\n",
    "        print(\"User not found.\")\n",
    "        return\n",
    "    \n",
    "    # Get the similarity scores for this user with all others\n",
    "    sim_scores = similarity_df[user_id]\n",
    "\n",
    "    # Sort the scores in descending order\n",
    "    sorted_scores = sim_scores.sort_values(ascending=False)\n",
    "\n",
    "    # Get the top n most similar users, skipping the first entry since it's the user themselves\n",
    "    most_similar_users = sorted_scores.iloc[1:top_n+1]\n",
    "\n",
    "    return most_similar_users\n",
    "\n",
    "# Create a new DataFrame for similar users\n",
    "def create_similar_users_df(similarity_df, top_n=5):\n",
    "    similar_users_list = []\n",
    "    \n",
    "    # Iterate over all user IDs in the similarity matrix\n",
    "    for user_id in similarity_df.index:\n",
    "        most_similar = get_similar_users(user_id, similarity_df, top_n)\n",
    "        similar_users_list.append({\n",
    "            \"user_id\": user_id,\n",
    "            \"similar_users\": ', '.join(map(str, most_similar.index))\n",
    "        })\n",
    "    \n",
    "    return pd.DataFrame(similar_users_list)\n",
    "\n",
    "# Example usage\n",
    "similar_users_df = create_similar_users_df(similarity_df)\n",
    "print(similar_users_df.head())\n",
    "\n",
    "# Test with a specific user ID\n",
    "user_id = 1\n",
    "print(f\"Top 5 similar users to User {user_id}:\\n{get_similar_users(user_id, similarity_df)}\")"
   ]
  },
  {
   "cell_type": "code",
   "execution_count": 11,
   "metadata": {},
   "outputs": [],
   "source": [
    "similar_users_df.to_csv('./data/similar_users.csv', index=False)"
   ]
  },
  {
   "cell_type": "code",
   "execution_count": 12,
   "metadata": {},
   "outputs": [
    {
     "name": "stdout",
     "output_type": "stream",
     "text": [
      "   user_id              similar_users\n",
      "0       28  [434, 432, 387, 189, 427]\n",
      "1       58  [382, 414, 570, 275, 250]\n",
      "2       87  [597, 414, 147, 259, 570]\n",
      "3       96  [372, 447, 456, 387, 580]\n",
      "4      103  [594, 339, 250, 490, 318]\n"
     ]
    }
   ],
   "source": [
    "# Read the CSV file\n",
    "similar_users_df = pd.read_csv('./data/similar_users.csv')\n",
    "\n",
    "# Convert 'user_id' to numeric\n",
    "similar_users_df['user_id'] = pd.to_numeric(similar_users_df['user_id'])\n",
    "\n",
    "# Convert 'similar_users' from a comma-separated string to a list of numerics\n",
    "similar_users_df['similar_users'] = similar_users_df['similar_users'].apply(lambda x: list(map(int, x.split(','))))\n",
    "\n",
    "# Display the updated DataFrame\n",
    "print(similar_users_df.head())"
   ]
  },
  {
   "cell_type": "code",
   "execution_count": null,
   "metadata": {},
   "outputs": [],
   "source": []
  },
  {
   "cell_type": "code",
   "execution_count": null,
   "metadata": {},
   "outputs": [],
   "source": []
  }
 ],
 "metadata": {
  "kernelspec": {
   "display_name": "Python 3 (ipykernel)",
   "language": "python",
   "name": "python3"
  },
  "language_info": {
   "codemirror_mode": {
    "name": "ipython",
    "version": 3
   },
   "file_extension": ".py",
   "mimetype": "text/x-python",
   "name": "python",
   "nbconvert_exporter": "python",
   "pygments_lexer": "ipython3",
   "version": "3.10.12"
  }
 },
 "nbformat": 4,
 "nbformat_minor": 2
}
