{
 "cells": [
  {
   "cell_type": "code",
   "execution_count": 14,
   "metadata": {},
   "outputs": [],
   "source": [
    "import torch\n",
    "torch.manual_seed(500)\n",
    "from torch import Tensor, nn\n",
    "import csv\n",
    "import pandas as pd\n",
    "import numpy as np\n",
    "from torch_geometric.nn import to_hetero, SAGEConv\n",
    "import torch.nn.functional as F\n",
    "from torch.optim import Adam\n",
    "from sklearn.metrics import roc_auc_score\n",
    "from tqdm import tqdm\n",
    "from typing import List, Tuple\n",
    "from datetime import datetime"
   ]
  },
  {
   "cell_type": "code",
   "execution_count": 2,
   "metadata": {},
   "outputs": [],
   "source": [
    "def read_tmdb_movies():\n",
    "    columns_of_interest = ['budget', 'revenue', 'vote_average', 'vote_count', 'production_companies', 'id']\n",
    "    movies_df = pd.read_csv(\"./data/tmdb_5000_movies.csv\", usecols=columns_of_interest)\n",
    "    movies_df.fillna({\n",
    "        'budget': 0,\n",
    "        'revenue': 0,\n",
    "        'vote_count': 0,\n",
    "        'production_companies': ''\n",
    "        })\n",
    "\n",
    "    links_df = pd.read_csv(\"./data/links.csv\", usecols=['movieId', 'tmdbId'])\n",
    "    movies_linked_df = pd.merge(movies_df, links_df, left_on='id', right_on='tmdbId', how='inner')\n",
    "\n",
    "    movies_info_df = pd.read_csv(\"./data/movies.csv\")\n",
    "    movies_df = pd.merge(movies_linked_df, movies_info_df, on='movieId', how='inner')\n",
    "\n",
    "    ratings_df = pd.read_csv(\"./data/ratings.csv\")\n",
    "    ratings_df = ratings_df[ratings_df['movieId'].isin(movies_df['movieId'])]\n",
    "    return movies_df, ratings_df\n",
    "\n",
    "movies_df, ratings_df = read_tmdb_movies()"
   ]
  },
  {
   "cell_type": "code",
   "execution_count": 3,
   "metadata": {},
   "outputs": [],
   "source": [
    "def standardize(x):\n",
    "    return (x - x.mean()) / x.std()\n",
    "\n",
    "# Filter movies based on ratings\n",
    "movies_df = movies_df[movies_df['movieId'].isin(ratings_df['movieId'])]\n",
    "\n",
    "# Process genres\n",
    "genres = movies_df['genres'].str.get_dummies('|')\n",
    "\n",
    "# Process numerical features\n",
    "numerical_features = ['vote_average', 'revenue', 'budget', 'vote_count']\n",
    "movies_df['vote_average'] = movies_df['vote_average'].fillna(5.0)\n",
    "\n",
    "# Convert to numpy, standardize, and create tensors\n",
    "num_features = movies_df[numerical_features].values.astype(float)\n",
    "num_features_standardized = standardize(num_features)\n",
    "num_tensors = torch.from_numpy(num_features_standardized).float()\n",
    "\n",
    "# Combine all features\n",
    "movie_feat = torch.cat([torch.from_numpy(genres.values).float(), num_tensors], dim=1)"
   ]
  },
  {
   "cell_type": "code",
   "execution_count": 4,
   "metadata": {},
   "outputs": [],
   "source": [
    "# construct a compact representation of the data\n",
    "unique_user_id = ratings_df['userId'].unique()\n",
    "unique_user_id = pd.DataFrame(data={\n",
    "    'userId': unique_user_id,\n",
    "    'mappedId': pd.RangeIndex(len(unique_user_id)),\n",
    "})\n",
    "unique_movie_id = ratings_df['movieId'].unique()\n",
    "unique_movie_id = pd.DataFrame(data={\n",
    "    'movieId': unique_movie_id,\n",
    "    'mappedId': pd.RangeIndex(len(unique_movie_id)),\n",
    "})\n",
    "\n",
    "ratings_user_id = pd.merge(ratings_df['userId'], unique_user_id, on='userId', how='left')\n",
    "ratings_user_id = torch.from_numpy(ratings_user_id['mappedId'].values)\n",
    "ratings_movie_id = pd.merge(ratings_df['movieId'], unique_movie_id, on='movieId', how='left')\n",
    "ratings_movie_id = torch.from_numpy(ratings_movie_id['mappedId'].values)\n",
    "\n",
    "edge_index_user_to_movie = torch.stack([ratings_user_id, ratings_movie_id], dim=0)"
   ]
  },
  {
   "cell_type": "code",
   "execution_count": 5,
   "metadata": {},
   "outputs": [
    {
     "name": "stderr",
     "output_type": "stream",
     "text": [
      "/home/piragi/projects/knowledge_graphs/torchg_env/lib/python3.10/site-packages/tqdm/auto.py:21: TqdmWarning: IProgress not found. Please update jupyter and ipywidgets. See https://ipywidgets.readthedocs.io/en/stable/user_install.html\n",
      "  from .autonotebook import tqdm as notebook_tqdm\n"
     ]
    },
    {
     "name": "stdout",
     "output_type": "stream",
     "text": [
      "HeteroData(\n",
      "  user={ node_id=[327536] },\n",
      "  movie={\n",
      "    node_id=[4632],\n",
      "    x=[4632, 24],\n",
      "  },\n",
      "  (user, rates, movie)={ edge_index=[2, 11821435] },\n",
      "  (movie, rev_rates, user)={ edge_index=[2, 11821435] }\n",
      ")\n"
     ]
    }
   ],
   "source": [
    "from torch_geometric.data import HeteroData\n",
    "import torch_geometric.transforms as T\n",
    "\n",
    "data = HeteroData()\n",
    "# save node indices\n",
    "data['user'].node_id = torch.arange(len(unique_user_id))\n",
    "data['movie'].node_id = torch.arange(len(unique_movie_id))\n",
    "\n",
    "# add node features\n",
    "data['movie'].x = movie_feat\n",
    "\n",
    "data['user', 'rates', 'movie'].edge_index = edge_index_user_to_movie\n",
    "data['user', 'rates', 'movie'].edge_label = torch.from_numpy(ratings_df['rating'].values).to(torch.long) # TODO: this cuts off the .5 steps\n",
    "mask = data['user', 'rates', 'movie'].edge_label >= 4\n",
    "del data['user', 'rates', 'movie'].edge_label \n",
    "data['user', 'rates', 'movie'].edge_index = data['user', 'rates', 'movie'].edge_index[:, mask]\n",
    "\n",
    "data = T.ToUndirected()(data)\n",
    "\n",
    "print(data)"
   ]
  },
  {
   "cell_type": "code",
   "execution_count": 6,
   "metadata": {},
   "outputs": [
    {
     "name": "stdout",
     "output_type": "stream",
     "text": [
      "tensor([1., 1., 1., 1., 1., 1., 1., 1., 1., 1., 1., 1., 1., 1., 1., 1., 1., 1.,\n",
      "        1., 1., 1., 1., 1., 1., 1., 1., 1., 1., 1., 1., 1., 1., 1., 1., 1., 1.,\n",
      "        1., 1., 1., 1., 1., 1., 1., 1., 1., 1., 1., 1., 1., 1., 1., 1., 1., 1.,\n",
      "        1., 1., 1., 1., 1., 1., 1., 1., 1., 1., 1., 1., 1., 1., 1., 1., 1., 1.,\n",
      "        1., 1., 1., 1., 1., 1., 1., 1., 1., 1., 1., 1., 1., 1., 1., 1., 1., 1.,\n",
      "        1., 1., 1., 1., 1., 1., 1., 1., 1., 1., 1., 1., 1., 1., 1., 1., 1., 1.,\n",
      "        1., 1., 1., 1., 1., 1., 1., 1., 1., 1., 1., 1., 1., 1., 1., 1., 1., 1.,\n",
      "        1., 1., 0., 0., 0., 0., 0., 0., 0., 0., 0., 0., 0., 0., 0., 0., 0., 0.,\n",
      "        0., 0., 0., 0., 0., 0., 0., 0., 0., 0., 0., 0., 0., 0., 0., 0., 0., 0.,\n",
      "        0., 0., 0., 0., 0., 0., 0., 0., 0., 0., 0., 0., 0., 0., 0., 0., 0., 0.,\n",
      "        0., 0., 0., 0., 0., 0., 0., 0., 0., 0., 0., 0., 0., 0., 0., 0., 0., 0.,\n",
      "        0., 0., 0., 0., 0., 0., 0., 0., 0., 0., 0., 0., 0., 0., 0., 0., 0., 0.,\n",
      "        0., 0., 0., 0., 0., 0., 0., 0., 0., 0., 0., 0., 0., 0., 0., 0., 0., 0.,\n",
      "        0., 0., 0., 0., 0., 0., 0., 0., 0., 0., 0., 0., 0., 0., 0., 0., 0., 0.,\n",
      "        0., 0., 0., 0., 0., 0., 0., 0., 0., 0., 0., 0., 0., 0., 0., 0., 0., 0.,\n",
      "        0., 0., 0., 0., 0., 0., 0., 0., 0., 0., 0., 0., 0., 0., 0., 0., 0., 0.,\n",
      "        0., 0., 0., 0., 0., 0., 0., 0., 0., 0., 0., 0., 0., 0., 0., 0., 0., 0.,\n",
      "        0., 0., 0., 0., 0., 0., 0., 0., 0., 0., 0., 0., 0., 0., 0., 0., 0., 0.,\n",
      "        0., 0., 0., 0., 0., 0., 0., 0., 0., 0., 0., 0., 0., 0., 0., 0., 0., 0.,\n",
      "        0., 0., 0., 0., 0., 0., 0., 0., 0., 0., 0., 0., 0., 0., 0., 0., 0., 0.,\n",
      "        0., 0., 0., 0., 0., 0., 0., 0., 0., 0., 0., 0., 0., 0., 0., 0., 0., 0.,\n",
      "        0., 0., 0., 0., 0., 0.])\n"
     ]
    }
   ],
   "source": [
    "transform = T.RandomLinkSplit(\n",
    "    num_val=0.1,\n",
    "    num_test=0.1,\n",
    "    disjoint_train_ratio=0.3,\n",
    "    neg_sampling_ratio=2.0,\n",
    "    add_negative_train_samples=False,\n",
    "    edge_types=[(\"user\", \"rates\", \"movie\")],\n",
    "    rev_edge_types=[(\"movie\", \"rev_rates\", \"user\")],\n",
    ")\n",
    "train_data, val_data, test_data = transform(data)\n",
    "\n",
    "from torch_geometric.loader import LinkNeighborLoader\n",
    "# Example configuration with correct tuple formatting for edge_label_index:\n",
    "train_loader = LinkNeighborLoader(\n",
    "    data=train_data,\n",
    "    num_neighbors=[10,10,10],\n",
    "    edge_label_index=(('user', 'rates', 'movie'), train_data['user', 'rates', 'movie'].edge_label_index),  # Correct tuple format\n",
    "    edge_label=train_data['user', 'rates', 'movie'].edge_label,  # Labels for the edges\n",
    "    batch_size=128,\n",
    "    shuffle=True,\n",
    "    neg_sampling_ratio=2.0  # Example negative sampling ratio\n",
    ")\n",
    "\n",
    "# Define the validation seed edges:\n",
    "edge_label_index = val_data[\"user\", \"rates\", \"movie\"].edge_label_index\n",
    "edge_label = val_data[\"user\", \"rates\", \"movie\"].edge_label\n",
    "val_loader = LinkNeighborLoader(\n",
    "    data=val_data,\n",
    "    num_neighbors=[10,10,10],\n",
    "    edge_label_index=((\"user\", \"rates\", \"movie\"), edge_label_index),\n",
    "    edge_label=edge_label,\n",
    "    batch_size=128*3,\n",
    "    shuffle=False,\n",
    ")"
   ]
  },
  {
   "cell_type": "code",
   "execution_count": 7,
   "metadata": {},
   "outputs": [],
   "source": [
    "config = {\n",
    "    'movie_feature_dim': 24,\n",
    "    'hidden_dim': 64,\n",
    "    'num_layers': 2\n",
    "}"
   ]
  },
  {
   "cell_type": "code",
   "execution_count": 10,
   "metadata": {},
   "outputs": [
    {
     "name": "stdout",
     "output_type": "stream",
     "text": [
      "RecommendationModel(\n",
      "  (movie_lin): Linear(in_features=24, out_features=64, bias=True)\n",
      "  (user_emb): Embedding(327536, 64)\n",
      "  (movie_emb): Embedding(4632, 64)\n",
      "  (gnn): GraphModule(\n",
      "    (convs): ModuleList(\n",
      "      (0-1): 2 x ModuleDict(\n",
      "        (user__rates__movie): SAGEConv(64, 64, aggr=mean)\n",
      "        (movie__rev_rates__user): SAGEConv(64, 64, aggr=mean)\n",
      "      )\n",
      "    )\n",
      "    (batch_norms): ModuleList(\n",
      "      (0-1): 2 x ModuleDict(\n",
      "        (user): BatchNorm1d(64, eps=1e-05, momentum=0.1, affine=True, track_running_stats=True)\n",
      "        (movie): BatchNorm1d(64, eps=1e-05, momentum=0.1, affine=True, track_running_stats=True)\n",
      "      )\n",
      "    )\n",
      "  )\n",
      "  (classifier): Classifier(\n",
      "    (layers): Sequential(\n",
      "      (0): Linear(in_features=128, out_features=64, bias=True)\n",
      "      (1): ReLU()\n",
      "      (2): Linear(in_features=64, out_features=1, bias=True)\n",
      "    )\n",
      "  )\n",
      ")\n"
     ]
    }
   ],
   "source": [
    "class GNN(nn.Module):\n",
    "    \"\"\"Graph Neural Network using SAGEConv layers.\"\"\"\n",
    "    def __init__(self, in_channels: int, hidden_channels: int, num_layers: int):\n",
    "        super().__init__()\n",
    "        self.convs = nn.ModuleList()\n",
    "        self.batch_norms = nn.ModuleList()\n",
    "        \n",
    "        for i in range(num_layers):\n",
    "            in_channels = in_channels if i == 0 else hidden_channels\n",
    "            self.convs.append(SAGEConv(in_channels, hidden_channels))\n",
    "            self.batch_norms.append(nn.BatchNorm1d(hidden_channels))\n",
    "    \n",
    "    def forward(self, x: Tensor, edge_index: Tensor) -> Tensor:\n",
    "        for conv, bn in zip(self.convs, self.batch_norms):\n",
    "            x = conv(x, edge_index)\n",
    "            x = bn(x)\n",
    "            x = torch.relu(x)\n",
    "        return x\n",
    "\n",
    "class Classifier(nn.Module):\n",
    "    \"\"\"Classifier for link prediction.\"\"\"\n",
    "    def __init__(self, hidden_dim: int):\n",
    "        super().__init__()\n",
    "        self.layers = nn.Sequential(\n",
    "            nn.Linear(2*hidden_dim, hidden_dim),\n",
    "            nn.ReLU(),\n",
    "            nn.Linear(hidden_dim, 1)\n",
    "        )\n",
    "    \n",
    "    def forward(self, user_features: Tensor, movie_features: Tensor, edge_index: Tensor) -> Tensor:\n",
    "        edge_features = torch.cat([user_features[edge_index[0]], movie_features[edge_index[1]]], dim=1)\n",
    "        return self.layers(edge_features).view(-1)\n",
    "\n",
    "class RecommendationModel(nn.Module):\n",
    "    \"\"\"Main model for movie recommendations.\"\"\"\n",
    "    def __init__(self, config: dict, data: HeteroData):\n",
    "        super().__init__()\n",
    "        self.movie_lin = nn.Linear(config['movie_feature_dim'], config['hidden_dim'])\n",
    "        self.user_emb = nn.Embedding(data['user'].num_nodes, config['hidden_dim'])\n",
    "        self.movie_emb = nn.Embedding(data['movie'].num_nodes, config['hidden_dim'])\n",
    "        \n",
    "        self.gnn = GNN(config['hidden_dim'], config['hidden_dim'], config['num_layers'])\n",
    "        self.gnn = to_hetero(self.gnn, metadata=data.metadata(), aggr='sum')\n",
    "        \n",
    "        self.classifier = Classifier(config['hidden_dim'])\n",
    "    \n",
    "    def forward(self, data: HeteroData) -> Tensor:\n",
    "        x_dict = {\n",
    "            \"user\": self.user_emb(data['user'].node_id),\n",
    "            \"movie\": self.movie_lin(data['movie'].x) + self.movie_emb(data['movie'].node_id),\n",
    "        }\n",
    "        x_dict = self.gnn(x_dict, data.edge_index_dict)\n",
    "        \n",
    "        return self.classifier(\n",
    "            x_dict[\"user\"],\n",
    "            x_dict[\"movie\"],\n",
    "            data[\"user\", \"rates\", \"movie\"].edge_label_index,\n",
    "        )\n",
    "\n",
    "model = RecommendationModel(config, data)\n",
    "print(model)"
   ]
  },
  {
   "cell_type": "code",
   "execution_count": 15,
   "metadata": {},
   "outputs": [],
   "source": [
    "def generate_simple_filename(auc: float) -> str:\n",
    "    \"\"\"\n",
    "    Generate a simple filename for saving the model.\n",
    "    \n",
    "    Args:\n",
    "    auc (float): The AUC score of the model.\n",
    "    \n",
    "    Returns:\n",
    "    str: A formatted filename string.\n",
    "    \"\"\"\n",
    "    timestamp = datetime.now().strftime(\"%Y%m%d_%H%M\")\n",
    "    auc_str = f\"{auc:.4f}\".replace('.', '')\n",
    "    \n",
    "    return f\"model_{timestamp}_auc{auc_str}.pt\""
   ]
  },
  {
   "cell_type": "code",
   "execution_count": 16,
   "metadata": {},
   "outputs": [
    {
     "name": "stdout",
     "output_type": "stream",
     "text": [
      "Device: cuda\n"
     ]
    },
    {
     "name": "stderr",
     "output_type": "stream",
     "text": [
      "Training:   0%|          | 1/22166 [00:00<37:34,  9.83it/s]"
     ]
    },
    {
     "name": "stderr",
     "output_type": "stream",
     "text": [
      "Training: 100%|██████████| 22166/22166 [05:16<00:00, 69.94it/s]\n",
      "Validating: 100%|██████████| 9236/9236 [01:28<00:00, 103.97it/s]\n"
     ]
    },
    {
     "name": "stdout",
     "output_type": "stream",
     "text": [
      "Epoch 001, Loss: 0.2096, Validation AUC: 0.9724\n"
     ]
    },
    {
     "name": "stderr",
     "output_type": "stream",
     "text": [
      "Training: 100%|██████████| 22166/22166 [05:18<00:00, 69.65it/s]\n",
      "Validating: 100%|██████████| 9236/9236 [01:26<00:00, 106.57it/s]\n"
     ]
    },
    {
     "name": "stdout",
     "output_type": "stream",
     "text": [
      "Epoch 002, Loss: 0.2004, Validation AUC: 0.9738\n"
     ]
    },
    {
     "name": "stderr",
     "output_type": "stream",
     "text": [
      "Training: 100%|██████████| 22166/22166 [05:18<00:00, 69.65it/s]\n",
      "Validating: 100%|██████████| 9236/9236 [01:35<00:00, 96.81it/s] \n"
     ]
    },
    {
     "name": "stdout",
     "output_type": "stream",
     "text": [
      "Epoch 003, Loss: 0.1938, Validation AUC: 0.9750\n"
     ]
    },
    {
     "name": "stderr",
     "output_type": "stream",
     "text": [
      "Training: 100%|██████████| 22166/22166 [05:18<00:00, 69.61it/s]\n",
      "Validating: 100%|██████████| 9236/9236 [01:09<00:00, 133.75it/s]\n"
     ]
    },
    {
     "name": "stdout",
     "output_type": "stream",
     "text": [
      "Epoch 004, Loss: 0.1877, Validation AUC: 0.9756\n"
     ]
    },
    {
     "name": "stderr",
     "output_type": "stream",
     "text": [
      "Training: 100%|██████████| 22166/22166 [05:09<00:00, 71.55it/s]\n",
      "Validating: 100%|██████████| 9236/9236 [01:39<00:00, 92.65it/s] \n"
     ]
    },
    {
     "name": "stdout",
     "output_type": "stream",
     "text": [
      "Epoch 005, Loss: 0.1831, Validation AUC: 0.9760\n"
     ]
    }
   ],
   "source": [
    "def train_epoch(model: torch.nn.Module, \n",
    "                loader: torch.utils.data.DataLoader, \n",
    "                optimizer: torch.optim.Optimizer, \n",
    "                device: torch.device) -> float:\n",
    "    model.train()\n",
    "    total_loss = 0\n",
    "    total_examples = 0\n",
    "    \n",
    "    for batch in tqdm(loader, desc=\"Training\"):\n",
    "        batch = batch.to(device)\n",
    "        optimizer.zero_grad()\n",
    "        pred = model(batch)\n",
    "        label = batch['user', 'rates', 'movie'].edge_label\n",
    "        loss = F.binary_cross_entropy_with_logits(pred, label)\n",
    "        loss.backward()\n",
    "        optimizer.step()\n",
    "        total_loss += loss.item() * label.numel()\n",
    "        total_examples += label.numel()\n",
    "    \n",
    "    return total_loss / total_examples\n",
    "\n",
    "def validate(model: torch.nn.Module, \n",
    "             loader: torch.utils.data.DataLoader, \n",
    "             device: torch.device) -> Tuple[float, List[float], List[float]]:\n",
    "    model.eval()\n",
    "    preds = []\n",
    "    ground_truths = []\n",
    "    \n",
    "    with torch.no_grad():\n",
    "        for batch in tqdm(loader, desc=\"Validating\"):\n",
    "            batch = batch.to(device)\n",
    "            pred = model(batch)\n",
    "            preds.append(pred)\n",
    "            ground_truths.append(batch[\"user\", \"rates\", \"movie\"].edge_label)\n",
    "    \n",
    "    pred = torch.cat(preds, dim=0).cpu().numpy()\n",
    "    ground_truth = torch.cat(ground_truths, dim=0).cpu().numpy()\n",
    "    auc = roc_auc_score(ground_truth, pred)\n",
    "    \n",
    "    return auc, pred.tolist(), ground_truth.tolist()\n",
    "\n",
    "def train_model(model: torch.nn.Module, \n",
    "                train_loader: torch.utils.data.DataLoader, \n",
    "                val_loader: torch.utils.data.DataLoader, \n",
    "                num_epochs: int = 150, \n",
    "                lr: float = 0.001, \n",
    "                device: str = \"cuda\" if torch.cuda.is_available() else \"cpu\", \n",
    "                save_path: str = \"./model\") -> Tuple[List[float], List[float]]:\n",
    "    print(f'Device: {device}')\n",
    "    device = torch.device(device)\n",
    "    model = model.to(device)\n",
    "    optimizer = Adam(model.parameters(), lr=lr)\n",
    "    \n",
    "    train_losses = []\n",
    "    val_aucs = []\n",
    "    \n",
    "    for epoch in range(num_epochs):\n",
    "        train_loss = train_epoch(model, train_loader, optimizer, device)\n",
    "        val_auc, _, _ = validate(model, val_loader, device)\n",
    "        \n",
    "        train_losses.append(train_loss)\n",
    "        val_aucs.append(val_auc)\n",
    "        \n",
    "        print(f'Epoch {epoch + 1:03d}, Loss: {train_loss:.4f}, Validation AUC: {val_auc:.4f}')\n",
    "        \n",
    "        if val_auc == max(val_aucs):\n",
    "            filename = generate_simple_filename(val_auc)\n",
    "            torch.save(model.state_dict(), f\"{save_path}/{filename}\")\n",
    "\n",
    "    \n",
    "    return train_losses, val_aucs\n",
    "\n",
    "# Usage\n",
    "num_epochs = 5\n",
    "learning_rate = 0.001\n",
    "\n",
    "train_losses, val_aucs = train_model(model, train_loader, val_loader, \n",
    "                                     num_epochs=num_epochs, \n",
    "                                     lr=learning_rate)"
   ]
  },
  {
   "cell_type": "markdown",
   "metadata": {},
   "source": [
    "There is now a GNN for link prediciton. We should also do joint learning for some graph embedding method.\n",
    "This can be used for several usecases:\n",
    "- interpretability of predicitons\n",
    "- cluster group of similar users\n",
    "- connect similar users with each other\n",
    "\n",
    "After that, logical reasoning can be done to infer further information about the knowledge graph\n",
    "Goal is to create a knowledge graph that can be used for further link prediction and analyzing of the data we have"
   ]
  },
  {
   "cell_type": "markdown",
   "metadata": {},
   "source": []
  }
 ],
 "metadata": {
  "kernelspec": {
   "display_name": "torchg_env",
   "language": "python",
   "name": "python3"
  },
  "language_info": {
   "codemirror_mode": {
    "name": "ipython",
    "version": 3
   },
   "file_extension": ".py",
   "mimetype": "text/x-python",
   "name": "python",
   "nbconvert_exporter": "python",
   "pygments_lexer": "ipython3",
   "version": "3.10.12"
  }
 },
 "nbformat": 4,
 "nbformat_minor": 2
}
