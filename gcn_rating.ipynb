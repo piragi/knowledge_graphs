{
 "cells": [
  {
   "cell_type": "code",
   "execution_count": 287,
   "metadata": {},
   "outputs": [
    {
     "name": "stdout",
     "output_type": "stream",
     "text": [
      "   userId  movieId  rating  timestamp\n",
      "0       1        1     4.0  964982703\n",
      "2       1        6     4.0  964982224\n",
      "3       1       47     5.0  964983815\n",
      "4       1       50     5.0  964982931\n",
      "5       1       70     3.0  964982400\n",
      "2429\n",
      "55453\n"
     ]
    }
   ],
   "source": [
    "import torch\n",
    "from torch import Tensor\n",
    "import csv\n",
    "import pandas as pd\n",
    "\n",
    "def read_movies():\n",
    "    # read csv with movies for budget and imdb_id\n",
    "    columns_of_interest = ['budget', 'imdb_id', 'revenue', 'vote_average', 'directors']\n",
    "    data = []\n",
    "    with open('./data/movie_data_tmbd.csv', 'r', encoding='utf-8') as file:\n",
    "        reader = csv.DictReader(file, delimiter='|')\n",
    "        for row in reader:\n",
    "            extracted_row = {col: row[col] for col in columns_of_interest}\n",
    "            data.append(extracted_row)\n",
    "\n",
    "    movies_budget_df = pd.DataFrame(data)\n",
    "    movies_budget_df = movies_budget_df.fillna({\n",
    "        'budget': 0,\n",
    "        'imdb_id': '',\n",
    "        'title': '',\n",
    "        'director': ''\n",
    "    })\n",
    "\n",
    "    # merge movie budget with id\n",
    "    link_df = pd.read_csv(\"./data/small/links.csv\")\n",
    "    link_df['imdbId'] = link_df['imdbId'].apply(lambda x: f'tt0{int(x)}')\n",
    "\n",
    "    movies_id_df = pd.merge(movies_budget_df, link_df, left_on='imdb_id', right_on='imdbId', how='inner')\n",
    "    movies_id_df['budget'] = pd.to_numeric(movies_id_df['budget'])\n",
    "    movies_id_df['revenue'] = pd.to_numeric(movies_id_df['revenue'])\n",
    "    movies_id_df = movies_id_df[movies_id_df.budget != 0]\n",
    "    movies_id_df = movies_id_df[movies_id_df.revenue != 0]\n",
    "\n",
    "    movies_info_df = pd.read_csv(\"./data/small/movies.csv\")\n",
    "    movies_df = pd.merge(movies_id_df, movies_info_df, on=\"movieId\", how=\"inner\")\n",
    "\n",
    "    ratings_df = pd.read_csv(\"./data/small/ratings.csv\")\n",
    "    #ratings_df = ratings_df.iloc[:ratings_df.shape[0]//10]\n",
    "    ratings_df = ratings_df[ratings_df['movieId'].isin(movies_df['movieId'])]\n",
    "\n",
    "    return movies_df, ratings_df\n",
    "\n",
    "movies_df, ratings_df = read_movies()\n",
    "#print(movies_df.head())\n",
    "print(ratings_df.head())\n",
    "print(len(movies_df))\n",
    "print(len(ratings_df))"
   ]
  },
  {
   "cell_type": "code",
   "execution_count": 288,
   "metadata": {},
   "outputs": [
    {
     "name": "stdout",
     "output_type": "stream",
     "text": [
      "torch.Size([2429, 20])\n"
     ]
    },
    {
     "name": "stderr",
     "output_type": "stream",
     "text": [
      "/tmp/ipykernel_4981/676634563.py:3: FutureWarning: A value is trying to be set on a copy of a DataFrame or Series through chained assignment using an inplace method.\n",
      "The behavior will change in pandas 3.0. This inplace method will never work because the intermediate object on which we are setting values always behaves as a copy.\n",
      "\n",
      "For example, when doing 'df[col].method(value, inplace=True)', try using 'df.method({col: value}, inplace=True)' or df[col] = df[col].method(value) instead, to perform the operation inplace on the original object.\n",
      "\n",
      "\n",
      "  movies_df['vote_average'].fillna(5.0, inplace=True)\n"
     ]
    }
   ],
   "source": [
    "genres = movies_df['genres'].str.get_dummies('|')\n",
    "movie_feat = torch.from_numpy(genres.values).to(torch.float)\n",
    "movies_df['vote_average'].fillna(5.0, inplace=True)\n",
    "vote_average = torch.from_numpy(movies_df['vote_average'].astype(float).values).to(torch.float).unsqueeze(-1)\n",
    "movie_feat = torch.cat([movie_feat, vote_average], dim=1)\n",
    "print(movie_feat.shape)"
   ]
  },
  {
   "cell_type": "code",
   "execution_count": 289,
   "metadata": {},
   "outputs": [],
   "source": [
    "ratings_df['rating_classes'], unique_classes = pd.factorize(ratings_df['rating'])\n",
    "\n"
   ]
  },
  {
   "cell_type": "code",
   "execution_count": 290,
   "metadata": {},
   "outputs": [
    {
     "name": "stdout",
     "output_type": "stream",
     "text": [
      "0    [{'credit_id': '52fe4640c3a36847f80f4a8b', 'de...\n",
      "1    [{'credit_id': '52fe4652c3a36847f80f8afb', 'de...\n",
      "2    [{'credit_id': '52fe466bc3a36847f80fdfb9', 'de...\n",
      "3    [{'credit_id': '52fe466dc3a36847f80fe76d', 'de...\n",
      "4    [{'credit_id': '57aa51cac3a368570a000786', 'de...\n",
      "Name: directors, dtype: object\n"
     ]
    }
   ],
   "source": [
    "import pandas as pd\n",
    "from ast import literal_eval\n",
    "\n",
    "# Check if conversion is needed and perform it safely\n",
    "def safe_literal_eval(s):\n",
    "    try:\n",
    "        if isinstance(s, str):\n",
    "            return literal_eval(s)\n",
    "        else:\n",
    "            return s  # assuming s is already the correct format\n",
    "    except (ValueError, SyntaxError):\n",
    "        return None\n",
    "\n",
    "movies_df['directors'] = movies_df['directors'].apply(safe_literal_eval)\n",
    "\n",
    "# Check the result after conversion\n",
    "print(movies_df['directors'].head())"
   ]
  },
  {
   "cell_type": "code",
   "execution_count": 291,
   "metadata": {},
   "outputs": [
    {
     "name": "stdout",
     "output_type": "stream",
     "text": [
      "0    {'credit_id': '52fe4640c3a36847f80f4a8b', 'dep...\n",
      "1    {'credit_id': '52fe4652c3a36847f80f8afb', 'dep...\n",
      "2    {'credit_id': '52fe466bc3a36847f80fdfb9', 'dep...\n",
      "2    {'credit_id': '52fe466bc3a36847f80fdfb3', 'dep...\n",
      "3    {'credit_id': '52fe466dc3a36847f80fe76d', 'dep...\n",
      "Name: directors, dtype: object\n"
     ]
    }
   ],
   "source": [
    "# Explode the DataFrame on the 'directors' column if the data is correctly formatted as lists of dictionaries\n",
    "directors_expanded = movies_df.explode('directors').dropna()\n",
    "\n",
    "# Check the first few rows to ensure explosion worked\n",
    "print(directors_expanded['directors'].head())"
   ]
  },
  {
   "cell_type": "code",
   "execution_count": 292,
   "metadata": {},
   "outputs": [
    {
     "name": "stdout",
     "output_type": "stream",
     "text": [
      "   director_id  director_name\n",
      "0         9181   Edward Zwick\n",
      "1        59291  Alexandre Aja\n",
      "2        53068     Ryan Fleck\n",
      "2        53069     Anna Boden\n",
      "3         3026     Rob Reiner\n"
     ]
    }
   ],
   "source": [
    "# Normalize the directors' dictionary data into separate DataFrame columns\n",
    "if not directors_expanded['directors'].isnull().all():  # Check if all values are not None\n",
    "    directors_expanded[['director_id', 'director_name']] = directors_expanded['directors'].apply(lambda d: pd.Series({'id': d['id'], 'name': d['name']}) if pd.notna(d) else pd.Series({'id': None, 'name': None}))\n",
    "else:\n",
    "    print(\"No valid director data available.\")\n",
    "\n",
    "# Check if the new columns are filled correctly\n",
    "print(directors_expanded[['director_id', 'director_name']].head())"
   ]
  },
  {
   "cell_type": "code",
   "execution_count": 293,
   "metadata": {},
   "outputs": [
    {
     "name": "stdout",
     "output_type": "stream",
     "text": [
      "   director_name  vote_average\n",
      "0   Edward Zwick           7.0\n",
      "1  Alexandre Aja           5.3\n",
      "2     Ryan Fleck           7.0\n",
      "2     Anna Boden           7.0\n",
      "3     Rob Reiner           7.7\n"
     ]
    }
   ],
   "source": [
    "import pandas as pd\n",
    "from ast import literal_eval\n",
    "\n",
    "# Convert the 'vote_average' to float\n",
    "directors_expanded['vote_average'] = pd.to_numeric(directors_expanded['vote_average'], errors='coerce')\n",
    "\n",
    "# Check if the conversion was successful\n",
    "print(directors_expanded[['director_name', 'vote_average']].head())"
   ]
  },
  {
   "cell_type": "code",
   "execution_count": 294,
   "metadata": {},
   "outputs": [
    {
     "name": "stdout",
     "output_type": "stream",
     "text": [
      "(1229, 2)\n"
     ]
    }
   ],
   "source": [
    "# Group by director name and calculate mean ratings and count of movies\n",
    "director_stats = directors_expanded.groupby('director_name').agg({\n",
    "    'vote_average': ['mean', 'count']\n",
    "}).reset_index()\n",
    "\n",
    "# Flatten the multi-level column headers\n",
    "director_stats.columns = ['director', 'average_rating', 'movie_counts']\n",
    "director_stats = director_stats[['average_rating','movie_counts']]\n",
    "# Display the resulting DataFrame\n",
    "print(director_stats.shape)"
   ]
  },
  {
   "cell_type": "code",
   "execution_count": 295,
   "metadata": {},
   "outputs": [
    {
     "data": {
      "text/plain": [
       "torch.Size([1229, 2])"
      ]
     },
     "execution_count": 295,
     "metadata": {},
     "output_type": "execute_result"
    }
   ],
   "source": [
    "director_stats = torch.from_numpy(director_stats.values).to(torch.float)\n",
    "director_stats.shape"
   ]
  },
  {
   "cell_type": "code",
   "execution_count": 296,
   "metadata": {},
   "outputs": [
    {
     "name": "stdout",
     "output_type": "stream",
     "text": [
      "1229\n"
     ]
    }
   ],
   "source": [
    "directors_expanded = directors_expanded[['movieId', 'director_name', 'director_id']]\n",
    "movies_extended_df = pd.merge(movies_df, directors_expanded, on='movieId', how='left')\n",
    "movies_extended_df = movies_extended_df.dropna(subset=['director_name'])\n",
    "print(len(movies_extended_df['director_name'].unique()))"
   ]
  },
  {
   "cell_type": "code",
   "execution_count": 297,
   "metadata": {},
   "outputs": [
    {
     "name": "stdout",
     "output_type": "stream",
     "text": [
      "['Edward Zwick' 'Alexandre Aja' 'Ryan Fleck' ... 'Oliver Parker'\n",
      " 'Adam Elliot' 'Lance Mungia']\n"
     ]
    }
   ],
   "source": [
    "print(movies_extended_df['director_name'].unique())"
   ]
  },
  {
   "cell_type": "code",
   "execution_count": 298,
   "metadata": {},
   "outputs": [
    {
     "data": {
      "text/plain": [
       "array([82167, 79879, 80693, ...,  2275,  4141,  6289])"
      ]
     },
     "execution_count": 298,
     "metadata": {},
     "output_type": "execute_result"
    }
   ],
   "source": [
    "movies_extended_df['movieId'].unique()"
   ]
  },
  {
   "cell_type": "code",
   "execution_count": 299,
   "metadata": {},
   "outputs": [
    {
     "name": "stdout",
     "output_type": "stream",
     "text": [
      "torch.Size([2, 2605])\n"
     ]
    }
   ],
   "source": [
    "unique_director_id = movies_extended_df['director_id'].unique()\n",
    "unique_director_id = pd.DataFrame(data={\n",
    "    'director_id': unique_director_id,\n",
    "    'mappedId': pd.RangeIndex(len(unique_director_id))\n",
    "})\n",
    "unique_movie_id = movies_extended_df['movieId'].unique()\n",
    "unique_movie_id = pd.DataFrame(data={\n",
    "    'movieId': unique_movie_id,\n",
    "    'mappedId': pd.RangeIndex(len(unique_movie_id))\n",
    "})\n",
    "\n",
    "director_director_id = pd.merge(movies_extended_df['director_id'], unique_director_id, on='director_id', how='left')\n",
    "director_director_id = torch.from_numpy(director_director_id['mappedId'].values)\n",
    "director_movie_id = pd.merge(movies_extended_df['movieId'], unique_movie_id, on='movieId', how='left')\n",
    "director_movie_id = torch.from_numpy(director_movie_id['mappedId'].values)\n",
    "\n",
    "edge_index_director_to_movie = torch.stack([director_director_id, director_movie_id], dim=0)\n",
    "print(edge_index_director_to_movie.shape)"
   ]
  },
  {
   "cell_type": "code",
   "execution_count": 300,
   "metadata": {},
   "outputs": [],
   "source": [
    "# construct a compact representation of the data\n",
    "unique_user_id = ratings_df['userId'].unique()\n",
    "unique_user_id = pd.DataFrame(data={\n",
    "    'userId': unique_user_id,\n",
    "    'mappedId': pd.RangeIndex(len(unique_user_id)),\n",
    "})\n",
    "unique_movie_id = ratings_df['movieId'].unique()\n",
    "unique_movie_id = pd.DataFrame(data={\n",
    "    'movieId': unique_movie_id,\n",
    "    'mappedId': pd.RangeIndex(len(unique_movie_id)),\n",
    "})\n",
    "\n",
    "ratings_user_id = pd.merge(ratings_df['userId'], unique_user_id, on='userId', how='left')\n",
    "ratings_user_id = torch.from_numpy(ratings_user_id['mappedId'].values)\n",
    "ratings_movie_id = pd.merge(ratings_df['movieId'], unique_movie_id, on='movieId', how='left')\n",
    "ratings_movie_id = torch.from_numpy(ratings_movie_id['mappedId'].values)\n",
    "\n",
    "edge_index_user_to_movie = torch.stack([ratings_user_id, ratings_movie_id], dim=0)"
   ]
  },
  {
   "cell_type": "code",
   "execution_count": 301,
   "metadata": {},
   "outputs": [
    {
     "name": "stdout",
     "output_type": "stream",
     "text": [
      "1229\n",
      "torch.Size([1229, 2])\n"
     ]
    }
   ],
   "source": [
    "print(len(movies_extended_df['director_id'].unique()))\n",
    "print(director_stats.shape)"
   ]
  },
  {
   "cell_type": "code",
   "execution_count": 302,
   "metadata": {},
   "outputs": [
    {
     "data": {
      "text/plain": [
       "torch.Size([55453])"
      ]
     },
     "execution_count": 302,
     "metadata": {},
     "output_type": "execute_result"
    }
   ],
   "source": [
    "torch.from_numpy(ratings_df['rating'].values).shape"
   ]
  },
  {
   "cell_type": "code",
   "execution_count": 303,
   "metadata": {},
   "outputs": [
    {
     "data": {
      "text/plain": [
       "torch.Size([2, 55453])"
      ]
     },
     "execution_count": 303,
     "metadata": {},
     "output_type": "execute_result"
    }
   ],
   "source": [
    "edge_index_user_to_movie.shape"
   ]
  },
  {
   "cell_type": "code",
   "execution_count": 304,
   "metadata": {},
   "outputs": [
    {
     "name": "stdout",
     "output_type": "stream",
     "text": [
      "2429\n"
     ]
    }
   ],
   "source": [
    "print(len(ratings_df['movieId'].unique()))"
   ]
  },
  {
   "cell_type": "code",
   "execution_count": 305,
   "metadata": {},
   "outputs": [
    {
     "name": "stdout",
     "output_type": "stream",
     "text": [
      "HeteroData(\n",
      "  user={ node_id=[609] },\n",
      "  movie={\n",
      "    node_id=[2429],\n",
      "    x=[2429, 20],\n",
      "  },\n",
      "  director={\n",
      "    node_id=[1229],\n",
      "    x=[1229, 2],\n",
      "  },\n",
      "  (user, rates, movie)={\n",
      "    edge_index=[2, 55453],\n",
      "    edge_label=[55453],\n",
      "  },\n",
      "  (director, directs, movie)={\n",
      "    edge_index=[2, 2605],\n",
      "    edge_label=[2605],\n",
      "  },\n",
      "  (movie, rev_rates, user)={\n",
      "    edge_index=[2, 55453],\n",
      "    edge_label=[55453],\n",
      "  },\n",
      "  (movie, rev_directs, director)={\n",
      "    edge_index=[2, 2605],\n",
      "    edge_label=[2605],\n",
      "  }\n",
      ")\n"
     ]
    }
   ],
   "source": [
    "\n",
    "from torch_geometric.data import HeteroData\n",
    "import torch_geometric.transforms as T\n",
    "\n",
    "data = HeteroData()\n",
    "# save node indices\n",
    "data['user'].node_id = torch.arange(len(unique_user_id))\n",
    "data['movie'].node_id = torch.arange(len(unique_movie_id))\n",
    "data['director'].node_id = torch.arange(len(unique_director_id))\n",
    "\n",
    "# add node features\n",
    "data['movie'].x = movie_feat\n",
    "data['director'].x = director_stats\n",
    "data['user', 'rates', 'movie'].edge_index = edge_index_user_to_movie\n",
    "data['user', 'rates', 'movie'].edge_label = torch.from_numpy(ratings_df['rating'].values).to(torch.long) # TODO: this cuts off the .5 steps\n",
    "data['director', 'directs', 'movie'].edge_index = edge_index_director_to_movie\n",
    "data['director', 'directs', 'movie'].edge_label = torch.ones(edge_index_director_to_movie.shape[1]).to(torch.long)\n",
    "data = T.ToUndirected()(data)\n",
    "print(data)"
   ]
  },
  {
   "cell_type": "code",
   "execution_count": 306,
   "metadata": {},
   "outputs": [
    {
     "name": "stdout",
     "output_type": "stream",
     "text": [
      "1229\n",
      "torch.Size([1229, 2])\n",
      "torch.Size([2429, 20])\n",
      "2429\n"
     ]
    }
   ],
   "source": [
    "print(len(unique_director_id))\n",
    "print(director_stats.shape)\n",
    "print(movie_feat.shape)\n",
    "print(len(data['movie'].node_id))"
   ]
  },
  {
   "cell_type": "code",
   "execution_count": 307,
   "metadata": {},
   "outputs": [
    {
     "name": "stdout",
     "output_type": "stream",
     "text": [
      "tensor([4, 4, 5,  ..., 3, 3, 4])\n",
      "[4.  4.  5.  ... 3.5 3.5 4. ]\n"
     ]
    }
   ],
   "source": [
    "print(data['user', 'rates', 'movie'].edge_label)\n",
    "print(ratings_df['rating'].values)"
   ]
  },
  {
   "cell_type": "code",
   "execution_count": 308,
   "metadata": {},
   "outputs": [],
   "source": [
    "transform = T.RandomLinkSplit(\n",
    "    num_val=0.1,\n",
    "    num_test=0.1,\n",
    "    disjoint_train_ratio=0.3,\n",
    "    neg_sampling_ratio=2.0,\n",
    "    add_negative_train_samples=True,\n",
    "    edge_types=[(\"user\", \"rates\", \"movie\"), (\"director\", \"directs\", \"movie\")],\n",
    "    rev_edge_types=[(\"movie\", \"rev_rates\", \"user\"), (\"movie\", \"rev_directs\", \"director\")],\n",
    ")\n",
    "train_data, val_data, test_data = transform(data)"
   ]
  },
  {
   "cell_type": "code",
   "execution_count": 309,
   "metadata": {},
   "outputs": [
    {
     "name": "stdout",
     "output_type": "stream",
     "text": [
      "tensor([0, 1, 2, 3, 4, 5])\n",
      "tensor([0, 1, 2, 3, 4, 5])\n"
     ]
    },
    {
     "data": {
      "text/plain": [
       "tensor([0, 1, 2, 3, 4, 5, 6])"
      ]
     },
     "execution_count": 309,
     "metadata": {},
     "output_type": "execute_result"
    }
   ],
   "source": [
    "print(data['user', 'rates', 'movie'].edge_label.unique())\n",
    "print(torch.from_numpy(ratings_df['rating'].values).to(torch.long).unique())\n",
    "train_data['user', 'rates', 'movie'].edge_label.unique()"
   ]
  },
  {
   "cell_type": "code",
   "execution_count": 310,
   "metadata": {},
   "outputs": [
    {
     "name": "stdout",
     "output_type": "stream",
     "text": [
      "HeteroData(\n",
      "  user={\n",
      "    node_id=[609],\n",
      "    n_id=[609],\n",
      "    num_sampled_nodes=[4],\n",
      "  },\n",
      "  movie={\n",
      "    node_id=[1945],\n",
      "    x=[1945, 20],\n",
      "    n_id=[1945],\n",
      "    num_sampled_nodes=[4],\n",
      "  },\n",
      "  director={\n",
      "    node_id=[714],\n",
      "    x=[714, 2],\n",
      "    n_id=[714],\n",
      "    num_sampled_nodes=[4],\n",
      "  },\n",
      "  (user, rates, movie)={\n",
      "    edge_index=[2, 22735],\n",
      "    edge_label=[384],\n",
      "    edge_label_index=[2, 384],\n",
      "    e_id=[22735],\n",
      "    num_sampled_edges=[3],\n",
      "    input_id=[128],\n",
      "  },\n",
      "  (director, directs, movie)={\n",
      "    edge_index=[2, 1142],\n",
      "    edge_label=[1875],\n",
      "    edge_label_index=[2, 1875],\n",
      "    e_id=[1142],\n",
      "    num_sampled_edges=[3],\n",
      "  },\n",
      "  (movie, rev_rates, user)={\n",
      "    edge_index=[2, 13049],\n",
      "    edge_label=[13049],\n",
      "    e_id=[13049],\n",
      "    num_sampled_edges=[3],\n",
      "  },\n",
      "  (movie, rev_directs, director)={\n",
      "    edge_index=[2, 1162],\n",
      "    edge_label=[1162],\n",
      "    e_id=[1162],\n",
      "    num_sampled_edges=[3],\n",
      "  }\n",
      ")\n",
      "tensor([1, 1, 1, 1, 1, 1, 4, 1, 4, 1, 1, 1, 1, 5, 4, 1, 1, 1, 1, 1, 3, 1, 1, 3,\n",
      "        1, 1, 7, 1, 1, 1, 1, 1, 1, 1, 1, 1, 1, 6, 5, 1, 1, 4, 1, 5, 1, 1, 6, 6,\n",
      "        1, 1, 1, 1, 5, 1, 1, 1, 5, 1, 1, 1, 1, 1, 5, 5, 1, 1, 1, 1, 4, 1, 4, 4,\n",
      "        6, 1, 6, 3, 1, 5, 1, 1, 1, 6, 1, 5, 1, 1, 1, 5, 1, 5, 1, 1, 1, 5, 2, 1,\n",
      "        1, 5, 6, 5, 5, 7, 6, 1, 1, 7, 5, 1, 1, 1, 1, 1, 1, 1, 1, 1, 1, 1, 1, 3,\n",
      "        6, 1, 1, 1, 1, 1, 1, 5, 0, 0, 0, 0, 0, 0, 0, 0, 0, 0, 0, 0, 0, 0, 0, 0,\n",
      "        0, 0, 0, 0, 0, 0, 0, 0, 0, 0, 0, 0, 0, 0, 0, 0, 0, 0, 0, 0, 0, 0, 0, 0,\n",
      "        0, 0, 0, 0, 0, 0, 0, 0, 0, 0, 0, 0, 0, 0, 0, 0, 0, 0, 0, 0, 0, 0, 0, 0,\n",
      "        0, 0, 0, 0, 0, 0, 0, 0, 0, 0, 0, 0, 0, 0, 0, 0, 0, 0, 0, 0, 0, 0, 0, 0,\n",
      "        0, 0, 0, 0, 0, 0, 0, 0, 0, 0, 0, 0, 0, 0, 0, 0, 0, 0, 0, 0, 0, 0, 0, 0,\n",
      "        0, 0, 0, 0, 0, 0, 0, 0, 0, 0, 0, 0, 0, 0, 0, 0, 0, 0, 0, 0, 0, 0, 0, 0,\n",
      "        0, 0, 0, 0, 0, 0, 0, 0, 0, 0, 0, 0, 0, 0, 0, 0, 0, 0, 0, 0, 0, 0, 0, 0,\n",
      "        0, 0, 0, 0, 0, 0, 0, 0, 0, 0, 0, 0, 0, 0, 0, 0, 0, 0, 0, 0, 0, 0, 0, 0,\n",
      "        0, 0, 0, 0, 0, 0, 0, 0, 0, 0, 0, 0, 0, 0, 0, 0, 0, 0, 0, 0, 0, 0, 0, 0,\n",
      "        0, 0, 0, 0, 0, 0, 0, 0, 0, 0, 0, 0, 0, 0, 0, 0, 0, 0, 0, 0, 0, 0, 0, 0,\n",
      "        0, 0, 0, 0, 0, 0, 0, 0, 0, 0, 0, 0, 0, 0, 0, 0, 0, 0, 0, 0, 0, 0, 0, 0])\n"
     ]
    }
   ],
   "source": [
    "from torch_geometric.loader import LinkNeighborLoader\n",
    "# Example configuration with correct tuple formatting for edge_label_index:\n",
    "train_loader = LinkNeighborLoader(\n",
    "    data=train_data,\n",
    "    num_neighbors=[30,30,30],\n",
    "    edge_label_index=(('user', 'rates', 'movie'), train_data['user', 'rates', 'movie'].edge_label_index),  # Correct tuple format\n",
    "    edge_label=train_data['user', 'rates', 'movie'].edge_label,  # Labels for the edges\n",
    "    batch_size=128,\n",
    "    shuffle=True,\n",
    "    neg_sampling_ratio=2.0  # Example negative sampling ratio\n",
    ")\n",
    "\n",
    "val_sample = next(iter(train_loader))\n",
    "print(val_sample)\n",
    "print(val_sample['user', 'rates', 'movie'].edge_label)\n"
   ]
  },
  {
   "cell_type": "code",
   "execution_count": 323,
   "metadata": {},
   "outputs": [],
   "source": [
    "# Define the validation seed edges:\n",
    "edge_label_index = val_data[\"user\", \"rates\", \"movie\"].edge_label_index\n",
    "edge_label = val_data[\"user\", \"rates\", \"movie\"].edge_label\n",
    "val_loader = LinkNeighborLoader(\n",
    "    data=val_data,\n",
    "    num_neighbors=[30,30,30],\n",
    "    edge_label_index=((\"user\", \"rates\", \"movie\"), edge_label_index),\n",
    "    edge_label=edge_label,\n",
    "    batch_size=64,\n",
    "    shuffle=False,\n",
    "    neg_sampling_ratio=2.0,\n",
    ")\n",
    "val_sample = next(iter(val_loader))   "
   ]
  },
  {
   "cell_type": "code",
   "execution_count": 312,
   "metadata": {},
   "outputs": [
    {
     "data": {
      "text/plain": [
       "HeteroData(\n",
       "  user={\n",
       "    node_id=[608],\n",
       "    n_id=[608],\n",
       "    num_sampled_nodes=[4],\n",
       "  },\n",
       "  movie={\n",
       "    node_id=[1931],\n",
       "    x=[1931, 20],\n",
       "    n_id=[1931],\n",
       "    num_sampled_nodes=[4],\n",
       "  },\n",
       "  director={\n",
       "    node_id=[830],\n",
       "    x=[830, 2],\n",
       "    n_id=[830],\n",
       "    num_sampled_nodes=[4],\n",
       "  },\n",
       "  (user, rates, movie)={\n",
       "    edge_index=[2, 26925],\n",
       "    edge_label=[64],\n",
       "    edge_label_index=[2, 64],\n",
       "    e_id=[26925],\n",
       "    num_sampled_edges=[3],\n",
       "    input_id=[64],\n",
       "  },\n",
       "  (director, directs, movie)={\n",
       "    edge_index=[2, 1392],\n",
       "    edge_label=[780],\n",
       "    edge_label_index=[2, 780],\n",
       "    e_id=[1392],\n",
       "    num_sampled_edges=[3],\n",
       "  },\n",
       "  (movie, rev_rates, user)={\n",
       "    edge_index=[2, 14763],\n",
       "    edge_label=[14763],\n",
       "    e_id=[14763],\n",
       "    num_sampled_edges=[3],\n",
       "  },\n",
       "  (movie, rev_directs, director)={\n",
       "    edge_index=[2, 1286],\n",
       "    edge_label=[1286],\n",
       "    e_id=[1286],\n",
       "    num_sampled_edges=[3],\n",
       "  }\n",
       ")"
      ]
     },
     "execution_count": 312,
     "metadata": {},
     "output_type": "execute_result"
    }
   ],
   "source": [
    "val_sample"
   ]
  },
  {
   "cell_type": "code",
   "execution_count": 320,
   "metadata": {},
   "outputs": [
    {
     "name": "stdout",
     "output_type": "stream",
     "text": [
      "tensor(248.9620, grad_fn=<NllLossBackward0>)\n"
     ]
    }
   ],
   "source": [
    "from torch_geometric.nn import GraphConv, HeteroConv, to_hetero\n",
    "from torch.nn.functional import cross_entropy\n",
    "\n",
    "num_features = 64\n",
    "hidden_dim = 64\n",
    "\n",
    "model = Model(64, 64, 8)\n",
    "sample = next(iter(train_loader))\n",
    "output = model(sample)\n",
    "target = sample['user', 'rates', 'movie'].edge_label\n",
    "loss = cross_entropy(output, target)\n",
    "print(loss)"
   ]
  },
  {
   "cell_type": "code",
   "execution_count": 327,
   "metadata": {},
   "outputs": [
    {
     "name": "stdout",
     "output_type": "stream",
     "text": [
      "Model(\n",
      "  (movie_lin): Linear(in_features=20, out_features=256, bias=True)\n",
      "  (director_lin): Linear(in_features=2, out_features=256, bias=True)\n",
      "  (user_emb): Embedding(609, 256)\n",
      "  (movie_emb): Embedding(2429, 256)\n",
      "  (director_emb): Embedding(1229, 256)\n",
      "  (gnn): GraphModule(\n",
      "    (conv1): ModuleDict(\n",
      "      (user__rates__movie): SAGEConv(256, 256, aggr=mean)\n",
      "      (director__directs__movie): SAGEConv(256, 256, aggr=mean)\n",
      "      (movie__rev_rates__user): SAGEConv(256, 256, aggr=mean)\n",
      "      (movie__rev_directs__director): SAGEConv(256, 256, aggr=mean)\n",
      "    )\n",
      "    (conv2): ModuleDict(\n",
      "      (user__rates__movie): SAGEConv(256, 256, aggr=mean)\n",
      "      (director__directs__movie): SAGEConv(256, 256, aggr=mean)\n",
      "      (movie__rev_rates__user): SAGEConv(256, 256, aggr=mean)\n",
      "      (movie__rev_directs__director): SAGEConv(256, 256, aggr=mean)\n",
      "    )\n",
      "    (conv3): ModuleDict(\n",
      "      (user__rates__movie): SAGEConv(256, 256, aggr=mean)\n",
      "      (director__directs__movie): SAGEConv(256, 256, aggr=mean)\n",
      "      (movie__rev_rates__user): SAGEConv(256, 256, aggr=mean)\n",
      "      (movie__rev_directs__director): SAGEConv(256, 256, aggr=mean)\n",
      "    )\n",
      "  )\n",
      "  (classifier): Classifier(\n",
      "    (fc1): Linear(in_features=512, out_features=256, bias=True)\n",
      "    (relu): ReLU()\n",
      "    (fc2): Linear(in_features=256, out_features=8, bias=True)\n",
      "  )\n",
      ")\n"
     ]
    }
   ],
   "source": [
    "from torch_geometric.nn import GraphConv, to_hetero, SAGEConv, GraphSAGE\n",
    "\n",
    "class GNN(torch.nn.Module):\n",
    "    def __init__(self, num_features, hidden_dim):\n",
    "        super().__init__()\n",
    "        # self.sage = GraphSAGE()\n",
    "        self.conv1 = SAGEConv(num_features, hidden_dim)\n",
    "        self.conv2 = SAGEConv(hidden_dim, hidden_dim)\n",
    "        self.conv3 = SAGEConv(hidden_dim, hidden_dim)\n",
    "    \n",
    "    def forward(self, x, edge_index):#, edge_weight):\n",
    "        x = torch.relu(self.conv1(x, edge_index))#, edge_weight))\n",
    "        x = torch.relu(self.conv2(x, edge_index))#, edge_weight)\n",
    "        x = torch.relu(self.conv3(x, edge_index))#, edge_weight)\n",
    "        return x\n",
    "\n",
    "class Classifier(torch.nn.Module):\n",
    "    def __init__(self, hidden_dim, num_classes):\n",
    "        super().__init__()\n",
    "        self.fc1 = torch.nn.Linear(2*hidden_dim, hidden_dim)\n",
    "        self.relu = torch.nn.ReLU()\n",
    "        self.fc2 = torch.nn.Linear(hidden_dim, num_classes)  # Final layer that outputs class scores\n",
    "\n",
    "    def forward(self, x_user: Tensor, x_movie: Tensor, edge_label_index: Tensor) -> Tensor:\n",
    "        # Extract features for users and movies according to the edge indices\n",
    "        edge_feat_user = x_user[edge_label_index[0]]\n",
    "        edge_feat_movie = x_movie[edge_label_index[1]]\n",
    "\n",
    "        # Concatenate user and movie features\n",
    "        x = torch.cat((edge_feat_user, edge_feat_movie), dim=1)  # Concatenation along the feature dimension\n",
    "\n",
    "        # Pass the concatenated vector through the dense layers\n",
    "        x = self.fc1(x)\n",
    "        x = self.relu(x)\n",
    "        x = self.fc2(x)\n",
    "        return x\n",
    "\n",
    "\n",
    "class Model(torch.nn.Module):\n",
    "    # TODO: add data in function header?\n",
    "    def __init__(self, num_features, hidden_dim, num_classes):\n",
    "        super().__init__()\n",
    "        self.movie_lin = torch.nn.Linear(20, hidden_dim) # TODO: thats the number of neighbors?\n",
    "        self.director_lin = torch.nn.Linear(2, hidden_dim)\n",
    "        self.user_emb = torch.nn.Embedding(data['user'].num_nodes, hidden_dim)\n",
    "        self.movie_emb = torch.nn.Embedding(data['movie'].num_nodes, hidden_dim)\n",
    "        self.director_emb = torch.nn.Embedding(data['director'].num_nodes, hidden_dim)\n",
    "        self.gnn = GNN(num_features, hidden_dim)\n",
    "        self.gnn = to_hetero(self.gnn, metadata=data.metadata())\n",
    "        self.classifier = Classifier(hidden_dim, num_classes)\n",
    "\n",
    "    def forward(self, data:HeteroData) -> Tensor:\n",
    "        x_dict = {\n",
    "            \"user\": self.user_emb(data['user'].node_id),\n",
    "            \"movie\": self.movie_lin(data['movie'].x) + self.movie_emb(data['movie'].node_id),\n",
    "            \"director\": self.director_lin(data['director'].x) + self.director_emb(data['director'].node_id) \n",
    "        }\n",
    "        x_dict = self.gnn(x_dict, data.edge_index_dict)#, data.edge_weight_dict)\n",
    "        pred = self.classifier(\n",
    "            x_dict[\"user\"],\n",
    "            x_dict[\"movie\"],\n",
    "            data[\"user\", \"rates\", \"movie\"].edge_label_index,\n",
    "        )\n",
    "        return pred\n",
    "\n",
    "model = Model(256, 256, 8)\n",
    "print(model)"
   ]
  },
  {
   "cell_type": "code",
   "execution_count": 328,
   "metadata": {},
   "outputs": [
    {
     "name": "stdout",
     "output_type": "stream",
     "text": [
      "Device: cuda\n"
     ]
    },
    {
     "name": "stderr",
     "output_type": "stream",
     "text": [
      "  0%|                                                   | 0/312 [00:00<?, ?it/s]"
     ]
    },
    {
     "name": "stderr",
     "output_type": "stream",
     "text": [
      "100%|█████████████████████████████████████████| 312/312 [00:03<00:00, 91.37it/s]\n",
      "100%|████████████████████████████████████████| 260/260 [00:01<00:00, 141.98it/s]\n"
     ]
    },
    {
     "name": "stdout",
     "output_type": "stream",
     "text": [
      "Epoch: 000, Loss:1.0020\n",
      "Validation AUC: 0.6651\n"
     ]
    },
    {
     "name": "stderr",
     "output_type": "stream",
     "text": [
      "100%|████████████████████████████████████████| 312/312 [00:01<00:00, 168.71it/s]\n",
      "100%|████████████████████████████████████████| 260/260 [00:00<00:00, 298.39it/s]\n"
     ]
    },
    {
     "name": "stdout",
     "output_type": "stream",
     "text": [
      "Epoch: 001, Loss:0.8924\n",
      "Validation AUC: 0.6901\n"
     ]
    },
    {
     "name": "stderr",
     "output_type": "stream",
     "text": [
      "100%|█████████████████████████████████████████| 312/312 [00:03<00:00, 94.88it/s]\n",
      "100%|████████████████████████████████████████| 260/260 [00:01<00:00, 167.04it/s]\n"
     ]
    },
    {
     "name": "stdout",
     "output_type": "stream",
     "text": [
      "Epoch: 002, Loss:0.8770\n",
      "Validation AUC: 0.6922\n"
     ]
    },
    {
     "name": "stderr",
     "output_type": "stream",
     "text": [
      "100%|████████████████████████████████████████| 312/312 [00:02<00:00, 119.84it/s]\n",
      "100%|████████████████████████████████████████| 260/260 [00:00<00:00, 297.61it/s]\n"
     ]
    },
    {
     "name": "stdout",
     "output_type": "stream",
     "text": [
      "Epoch: 003, Loss:0.8702\n",
      "Validation AUC: 0.7039\n"
     ]
    },
    {
     "name": "stderr",
     "output_type": "stream",
     "text": [
      "100%|████████████████████████████████████████| 312/312 [00:01<00:00, 169.44it/s]\n",
      "100%|████████████████████████████████████████| 260/260 [00:00<00:00, 298.20it/s]\n"
     ]
    },
    {
     "name": "stdout",
     "output_type": "stream",
     "text": [
      "Epoch: 004, Loss:0.8631\n",
      "Validation AUC: 0.7143\n"
     ]
    },
    {
     "name": "stderr",
     "output_type": "stream",
     "text": [
      "100%|████████████████████████████████████████| 312/312 [00:02<00:00, 131.95it/s]\n",
      "100%|████████████████████████████████████████| 260/260 [00:01<00:00, 148.59it/s]\n"
     ]
    },
    {
     "name": "stdout",
     "output_type": "stream",
     "text": [
      "Epoch: 005, Loss:0.8569\n",
      "Validation AUC: 0.7225\n"
     ]
    },
    {
     "name": "stderr",
     "output_type": "stream",
     "text": [
      "100%|████████████████████████████████████████| 312/312 [00:03<00:00, 103.81it/s]\n",
      "100%|████████████████████████████████████████| 260/260 [00:01<00:00, 143.85it/s]\n"
     ]
    },
    {
     "name": "stdout",
     "output_type": "stream",
     "text": [
      "Epoch: 006, Loss:0.8507\n",
      "Validation AUC: 0.7224\n"
     ]
    },
    {
     "name": "stderr",
     "output_type": "stream",
     "text": [
      "100%|████████████████████████████████████████| 312/312 [00:02<00:00, 114.46it/s]\n",
      "100%|████████████████████████████████████████| 260/260 [00:00<00:00, 311.54it/s]\n"
     ]
    },
    {
     "name": "stdout",
     "output_type": "stream",
     "text": [
      "Epoch: 007, Loss:0.8458\n",
      "Validation AUC: 0.7292\n"
     ]
    },
    {
     "name": "stderr",
     "output_type": "stream",
     "text": [
      "100%|████████████████████████████████████████| 312/312 [00:01<00:00, 172.18it/s]\n",
      "100%|████████████████████████████████████████| 260/260 [00:00<00:00, 306.72it/s]\n"
     ]
    },
    {
     "name": "stdout",
     "output_type": "stream",
     "text": [
      "Epoch: 008, Loss:0.8414\n",
      "Validation AUC: 0.7339\n"
     ]
    },
    {
     "name": "stderr",
     "output_type": "stream",
     "text": [
      "100%|████████████████████████████████████████| 312/312 [00:01<00:00, 170.20it/s]\n",
      "100%|████████████████████████████████████████| 260/260 [00:00<00:00, 308.70it/s]\n"
     ]
    },
    {
     "name": "stdout",
     "output_type": "stream",
     "text": [
      "Epoch: 009, Loss:0.8358\n",
      "Validation AUC: 0.7394\n"
     ]
    },
    {
     "name": "stderr",
     "output_type": "stream",
     "text": [
      "100%|████████████████████████████████████████| 312/312 [00:01<00:00, 171.33it/s]\n",
      "100%|████████████████████████████████████████| 260/260 [00:01<00:00, 165.34it/s]\n"
     ]
    },
    {
     "name": "stdout",
     "output_type": "stream",
     "text": [
      "Epoch: 010, Loss:0.8326\n",
      "Validation AUC: 0.7440\n"
     ]
    },
    {
     "name": "stderr",
     "output_type": "stream",
     "text": [
      "100%|████████████████████████████████████████| 312/312 [00:02<00:00, 110.80it/s]\n",
      "100%|████████████████████████████████████████| 260/260 [00:00<00:00, 297.47it/s]\n"
     ]
    },
    {
     "name": "stdout",
     "output_type": "stream",
     "text": [
      "Epoch: 011, Loss:0.8307\n",
      "Validation AUC: 0.7418\n"
     ]
    },
    {
     "name": "stderr",
     "output_type": "stream",
     "text": [
      "100%|████████████████████████████████████████| 312/312 [00:01<00:00, 165.48it/s]\n",
      "100%|████████████████████████████████████████| 260/260 [00:00<00:00, 298.00it/s]\n"
     ]
    },
    {
     "name": "stdout",
     "output_type": "stream",
     "text": [
      "Epoch: 012, Loss:0.8265\n",
      "Validation AUC: 0.7416\n"
     ]
    },
    {
     "name": "stderr",
     "output_type": "stream",
     "text": [
      "100%|████████████████████████████████████████| 312/312 [00:01<00:00, 162.66it/s]\n",
      "100%|████████████████████████████████████████| 260/260 [00:00<00:00, 293.95it/s]\n"
     ]
    },
    {
     "name": "stdout",
     "output_type": "stream",
     "text": [
      "Epoch: 013, Loss:0.8225\n",
      "Validation AUC: 0.7437\n"
     ]
    },
    {
     "name": "stderr",
     "output_type": "stream",
     "text": [
      "100%|████████████████████████████████████████| 312/312 [00:01<00:00, 168.38it/s]\n",
      "100%|████████████████████████████████████████| 260/260 [00:00<00:00, 295.79it/s]\n"
     ]
    },
    {
     "name": "stdout",
     "output_type": "stream",
     "text": [
      "Epoch: 014, Loss:0.8183\n",
      "Validation AUC: 0.7495\n"
     ]
    },
    {
     "name": "stderr",
     "output_type": "stream",
     "text": [
      "100%|████████████████████████████████████████| 312/312 [00:01<00:00, 164.13it/s]\n",
      "100%|████████████████████████████████████████| 260/260 [00:00<00:00, 295.79it/s]\n"
     ]
    },
    {
     "name": "stdout",
     "output_type": "stream",
     "text": [
      "Epoch: 015, Loss:0.8161\n",
      "Validation AUC: 0.7489\n"
     ]
    },
    {
     "name": "stderr",
     "output_type": "stream",
     "text": [
      "100%|████████████████████████████████████████| 312/312 [00:01<00:00, 167.77it/s]\n",
      "100%|████████████████████████████████████████| 260/260 [00:00<00:00, 291.00it/s]\n"
     ]
    },
    {
     "name": "stdout",
     "output_type": "stream",
     "text": [
      "Epoch: 016, Loss:0.8118\n",
      "Validation AUC: 0.7507\n"
     ]
    },
    {
     "name": "stderr",
     "output_type": "stream",
     "text": [
      "100%|█████████████████████████████████████████| 312/312 [00:03<00:00, 97.31it/s]\n",
      "100%|████████████████████████████████████████| 260/260 [00:00<00:00, 314.33it/s]\n"
     ]
    },
    {
     "name": "stdout",
     "output_type": "stream",
     "text": [
      "Epoch: 017, Loss:0.8078\n",
      "Validation AUC: 0.7469\n"
     ]
    },
    {
     "name": "stderr",
     "output_type": "stream",
     "text": [
      "100%|████████████████████████████████████████| 312/312 [00:01<00:00, 160.11it/s]\n",
      "100%|████████████████████████████████████████| 260/260 [00:01<00:00, 151.00it/s]\n"
     ]
    },
    {
     "name": "stdout",
     "output_type": "stream",
     "text": [
      "Epoch: 018, Loss:0.8053\n",
      "Validation AUC: 0.7528\n"
     ]
    },
    {
     "name": "stderr",
     "output_type": "stream",
     "text": [
      "100%|████████████████████████████████████████| 312/312 [00:02<00:00, 155.28it/s]\n",
      "100%|████████████████████████████████████████| 260/260 [00:01<00:00, 142.30it/s]\n"
     ]
    },
    {
     "name": "stdout",
     "output_type": "stream",
     "text": [
      "Epoch: 019, Loss:0.8007\n",
      "Validation AUC: 0.7529\n"
     ]
    },
    {
     "name": "stderr",
     "output_type": "stream",
     "text": [
      "100%|████████████████████████████████████████| 312/312 [00:02<00:00, 147.60it/s]\n",
      "100%|████████████████████████████████████████| 260/260 [00:00<00:00, 299.44it/s]\n"
     ]
    },
    {
     "name": "stdout",
     "output_type": "stream",
     "text": [
      "Epoch: 020, Loss:0.7964\n",
      "Validation AUC: 0.7525\n"
     ]
    },
    {
     "name": "stderr",
     "output_type": "stream",
     "text": [
      "100%|████████████████████████████████████████| 312/312 [00:01<00:00, 169.13it/s]\n",
      "100%|████████████████████████████████████████| 260/260 [00:01<00:00, 201.89it/s]\n"
     ]
    },
    {
     "name": "stdout",
     "output_type": "stream",
     "text": [
      "Epoch: 021, Loss:0.7933\n",
      "Validation AUC: 0.7594\n"
     ]
    },
    {
     "name": "stderr",
     "output_type": "stream",
     "text": [
      "100%|████████████████████████████████████████| 312/312 [00:02<00:00, 125.79it/s]\n",
      "100%|████████████████████████████████████████| 260/260 [00:00<00:00, 301.64it/s]\n"
     ]
    },
    {
     "name": "stdout",
     "output_type": "stream",
     "text": [
      "Epoch: 022, Loss:0.7913\n",
      "Validation AUC: 0.7534\n"
     ]
    },
    {
     "name": "stderr",
     "output_type": "stream",
     "text": [
      "100%|████████████████████████████████████████| 312/312 [00:02<00:00, 112.55it/s]\n",
      "100%|████████████████████████████████████████| 260/260 [00:01<00:00, 139.58it/s]\n"
     ]
    },
    {
     "name": "stdout",
     "output_type": "stream",
     "text": [
      "Epoch: 023, Loss:0.7878\n",
      "Validation AUC: 0.7554\n"
     ]
    },
    {
     "name": "stderr",
     "output_type": "stream",
     "text": [
      "100%|████████████████████████████████████████| 312/312 [00:02<00:00, 134.92it/s]\n",
      "100%|████████████████████████████████████████| 260/260 [00:00<00:00, 297.14it/s]\n"
     ]
    },
    {
     "name": "stdout",
     "output_type": "stream",
     "text": [
      "Epoch: 024, Loss:0.7840\n",
      "Validation AUC: 0.7588\n"
     ]
    },
    {
     "name": "stderr",
     "output_type": "stream",
     "text": [
      "100%|████████████████████████████████████████| 312/312 [00:03<00:00, 103.32it/s]\n",
      "100%|████████████████████████████████████████| 260/260 [00:01<00:00, 139.75it/s]\n"
     ]
    },
    {
     "name": "stdout",
     "output_type": "stream",
     "text": [
      "Epoch: 025, Loss:0.7823\n",
      "Validation AUC: 0.7573\n"
     ]
    },
    {
     "name": "stderr",
     "output_type": "stream",
     "text": [
      "100%|████████████████████████████████████████| 312/312 [00:01<00:00, 159.00it/s]\n",
      "100%|████████████████████████████████████████| 260/260 [00:01<00:00, 215.21it/s]\n"
     ]
    },
    {
     "name": "stdout",
     "output_type": "stream",
     "text": [
      "Epoch: 026, Loss:0.7784\n",
      "Validation AUC: 0.7515\n"
     ]
    },
    {
     "name": "stderr",
     "output_type": "stream",
     "text": [
      "100%|████████████████████████████████████████| 312/312 [00:01<00:00, 161.24it/s]\n",
      "100%|████████████████████████████████████████| 260/260 [00:00<00:00, 298.91it/s]\n"
     ]
    },
    {
     "name": "stdout",
     "output_type": "stream",
     "text": [
      "Epoch: 027, Loss:0.7763\n",
      "Validation AUC: 0.7520\n"
     ]
    },
    {
     "name": "stderr",
     "output_type": "stream",
     "text": [
      "100%|████████████████████████████████████████| 312/312 [00:03<00:00, 102.91it/s]\n",
      "100%|████████████████████████████████████████| 260/260 [00:01<00:00, 139.42it/s]\n"
     ]
    },
    {
     "name": "stdout",
     "output_type": "stream",
     "text": [
      "Epoch: 028, Loss:0.7761\n",
      "Validation AUC: 0.7537\n"
     ]
    },
    {
     "name": "stderr",
     "output_type": "stream",
     "text": [
      "100%|████████████████████████████████████████| 312/312 [00:01<00:00, 167.91it/s]\n",
      "100%|████████████████████████████████████████| 260/260 [00:01<00:00, 140.26it/s]\n"
     ]
    },
    {
     "name": "stdout",
     "output_type": "stream",
     "text": [
      "Epoch: 029, Loss:0.7719\n",
      "Validation AUC: 0.7529\n"
     ]
    },
    {
     "name": "stderr",
     "output_type": "stream",
     "text": [
      "100%|████████████████████████████████████████| 312/312 [00:02<00:00, 129.52it/s]\n",
      "100%|████████████████████████████████████████| 260/260 [00:01<00:00, 157.54it/s]\n"
     ]
    },
    {
     "name": "stdout",
     "output_type": "stream",
     "text": [
      "Epoch: 030, Loss:0.7698\n",
      "Validation AUC: 0.7455\n"
     ]
    },
    {
     "name": "stderr",
     "output_type": "stream",
     "text": [
      "100%|████████████████████████████████████████| 312/312 [00:02<00:00, 149.84it/s]\n",
      "100%|████████████████████████████████████████| 260/260 [00:00<00:00, 314.56it/s]\n"
     ]
    },
    {
     "name": "stdout",
     "output_type": "stream",
     "text": [
      "Epoch: 031, Loss:0.7662\n",
      "Validation AUC: 0.7473\n"
     ]
    },
    {
     "name": "stderr",
     "output_type": "stream",
     "text": [
      "100%|████████████████████████████████████████| 312/312 [00:01<00:00, 173.10it/s]\n",
      "100%|████████████████████████████████████████| 260/260 [00:00<00:00, 314.41it/s]\n"
     ]
    },
    {
     "name": "stdout",
     "output_type": "stream",
     "text": [
      "Epoch: 032, Loss:0.7649\n",
      "Validation AUC: 0.7491\n"
     ]
    },
    {
     "name": "stderr",
     "output_type": "stream",
     "text": [
      "100%|████████████████████████████████████████| 312/312 [00:01<00:00, 172.82it/s]\n",
      "100%|████████████████████████████████████████| 260/260 [00:00<00:00, 313.92it/s]\n"
     ]
    },
    {
     "name": "stdout",
     "output_type": "stream",
     "text": [
      "Epoch: 033, Loss:0.7625\n",
      "Validation AUC: 0.7504\n"
     ]
    },
    {
     "name": "stderr",
     "output_type": "stream",
     "text": [
      "100%|████████████████████████████████████████| 312/312 [00:01<00:00, 173.10it/s]\n",
      "100%|████████████████████████████████████████| 260/260 [00:00<00:00, 313.95it/s]\n"
     ]
    },
    {
     "name": "stdout",
     "output_type": "stream",
     "text": [
      "Epoch: 034, Loss:0.7595\n",
      "Validation AUC: 0.7483\n"
     ]
    },
    {
     "name": "stderr",
     "output_type": "stream",
     "text": [
      "100%|████████████████████████████████████████| 312/312 [00:02<00:00, 144.70it/s]\n",
      "100%|████████████████████████████████████████| 260/260 [00:01<00:00, 144.23it/s]\n"
     ]
    },
    {
     "name": "stdout",
     "output_type": "stream",
     "text": [
      "Epoch: 035, Loss:0.7585\n",
      "Validation AUC: 0.7470\n"
     ]
    },
    {
     "name": "stderr",
     "output_type": "stream",
     "text": [
      "100%|████████████████████████████████████████| 312/312 [00:01<00:00, 172.89it/s]\n",
      "100%|████████████████████████████████████████| 260/260 [00:01<00:00, 197.39it/s]\n"
     ]
    },
    {
     "name": "stdout",
     "output_type": "stream",
     "text": [
      "Epoch: 036, Loss:0.7552\n",
      "Validation AUC: 0.7513\n"
     ]
    },
    {
     "name": "stderr",
     "output_type": "stream",
     "text": [
      "100%|████████████████████████████████████████| 312/312 [00:01<00:00, 169.87it/s]\n",
      "100%|████████████████████████████████████████| 260/260 [00:00<00:00, 301.05it/s]\n"
     ]
    },
    {
     "name": "stdout",
     "output_type": "stream",
     "text": [
      "Epoch: 037, Loss:0.7546\n",
      "Validation AUC: 0.7469\n"
     ]
    },
    {
     "name": "stderr",
     "output_type": "stream",
     "text": [
      "100%|████████████████████████████████████████| 312/312 [00:01<00:00, 170.15it/s]\n",
      "100%|████████████████████████████████████████| 260/260 [00:00<00:00, 299.25it/s]\n"
     ]
    },
    {
     "name": "stdout",
     "output_type": "stream",
     "text": [
      "Epoch: 038, Loss:0.7516\n",
      "Validation AUC: 0.7417\n"
     ]
    },
    {
     "name": "stderr",
     "output_type": "stream",
     "text": [
      "100%|████████████████████████████████████████| 312/312 [00:02<00:00, 120.55it/s]\n",
      "100%|████████████████████████████████████████| 260/260 [00:00<00:00, 301.90it/s]\n"
     ]
    },
    {
     "name": "stdout",
     "output_type": "stream",
     "text": [
      "Epoch: 039, Loss:0.7518\n",
      "Validation AUC: 0.7495\n"
     ]
    },
    {
     "name": "stderr",
     "output_type": "stream",
     "text": [
      "100%|████████████████████████████████████████| 312/312 [00:02<00:00, 142.61it/s]\n",
      "100%|████████████████████████████████████████| 260/260 [00:00<00:00, 301.08it/s]\n"
     ]
    },
    {
     "name": "stdout",
     "output_type": "stream",
     "text": [
      "Epoch: 040, Loss:0.7501\n",
      "Validation AUC: 0.7456\n"
     ]
    },
    {
     "name": "stderr",
     "output_type": "stream",
     "text": [
      "100%|████████████████████████████████████████| 312/312 [00:01<00:00, 166.84it/s]\n",
      "100%|████████████████████████████████████████| 260/260 [00:00<00:00, 299.80it/s]\n"
     ]
    },
    {
     "name": "stdout",
     "output_type": "stream",
     "text": [
      "Epoch: 041, Loss:0.7458\n",
      "Validation AUC: 0.7438\n"
     ]
    },
    {
     "name": "stderr",
     "output_type": "stream",
     "text": [
      "100%|████████████████████████████████████████| 312/312 [00:02<00:00, 123.54it/s]\n",
      "100%|████████████████████████████████████████| 260/260 [00:01<00:00, 141.61it/s]\n"
     ]
    },
    {
     "name": "stdout",
     "output_type": "stream",
     "text": [
      "Epoch: 042, Loss:0.7455\n",
      "Validation AUC: 0.7434\n"
     ]
    },
    {
     "name": "stderr",
     "output_type": "stream",
     "text": [
      "100%|████████████████████████████████████████| 312/312 [00:02<00:00, 107.59it/s]\n",
      "100%|████████████████████████████████████████| 260/260 [00:00<00:00, 299.97it/s]\n"
     ]
    },
    {
     "name": "stdout",
     "output_type": "stream",
     "text": [
      "Epoch: 043, Loss:0.7433\n",
      "Validation AUC: 0.7428\n"
     ]
    },
    {
     "name": "stderr",
     "output_type": "stream",
     "text": [
      "100%|████████████████████████████████████████| 312/312 [00:02<00:00, 139.63it/s]\n",
      "100%|████████████████████████████████████████| 260/260 [00:00<00:00, 304.95it/s]\n"
     ]
    },
    {
     "name": "stdout",
     "output_type": "stream",
     "text": [
      "Epoch: 044, Loss:0.7398\n",
      "Validation AUC: 0.7399\n"
     ]
    },
    {
     "name": "stderr",
     "output_type": "stream",
     "text": [
      "100%|█████████████████████████████████████████| 312/312 [00:03<00:00, 94.59it/s]\n",
      "100%|████████████████████████████████████████| 260/260 [00:00<00:00, 311.95it/s]\n"
     ]
    },
    {
     "name": "stdout",
     "output_type": "stream",
     "text": [
      "Epoch: 045, Loss:0.7399\n",
      "Validation AUC: 0.7423\n"
     ]
    },
    {
     "name": "stderr",
     "output_type": "stream",
     "text": [
      "100%|████████████████████████████████████████| 312/312 [00:02<00:00, 120.85it/s]\n",
      "100%|████████████████████████████████████████| 260/260 [00:00<00:00, 294.05it/s]\n"
     ]
    },
    {
     "name": "stdout",
     "output_type": "stream",
     "text": [
      "Epoch: 046, Loss:0.7353\n",
      "Validation AUC: 0.7460\n"
     ]
    },
    {
     "name": "stderr",
     "output_type": "stream",
     "text": [
      "100%|████████████████████████████████████████| 312/312 [00:02<00:00, 126.34it/s]\n",
      "100%|████████████████████████████████████████| 260/260 [00:01<00:00, 150.39it/s]\n"
     ]
    },
    {
     "name": "stdout",
     "output_type": "stream",
     "text": [
      "Epoch: 047, Loss:0.7351\n",
      "Validation AUC: 0.7377\n"
     ]
    },
    {
     "name": "stderr",
     "output_type": "stream",
     "text": [
      "100%|████████████████████████████████████████| 312/312 [00:02<00:00, 120.99it/s]\n",
      "100%|████████████████████████████████████████| 260/260 [00:00<00:00, 308.01it/s]\n"
     ]
    },
    {
     "name": "stdout",
     "output_type": "stream",
     "text": [
      "Epoch: 048, Loss:0.7324\n",
      "Validation AUC: 0.7440\n"
     ]
    },
    {
     "name": "stderr",
     "output_type": "stream",
     "text": [
      "100%|████████████████████████████████████████| 312/312 [00:01<00:00, 170.39it/s]\n",
      "100%|████████████████████████████████████████| 260/260 [00:00<00:00, 307.58it/s]\n"
     ]
    },
    {
     "name": "stdout",
     "output_type": "stream",
     "text": [
      "Epoch: 049, Loss:0.7287\n",
      "Validation AUC: 0.7380\n"
     ]
    }
   ],
   "source": [
    "import tqdm\n",
    "import torch.nn.functional as F\n",
    "from sklearn.metrics import roc_auc_score\n",
    "\n",
    "device = torch.device(\"cuda\" if torch.cuda.is_available() else 'cpu')\n",
    "print(f'Device: {device}')\n",
    "\n",
    "#model = torch.load(\"./model/auc_8092.pt\")\n",
    "model = model.to(device)\n",
    "optimizer = torch.optim.Adam(model.parameters(), lr=0.0001)\n",
    "save = False\n",
    "\n",
    "\n",
    "for epoch in range(50):\n",
    "    total_loss = 0\n",
    "    total_examples = 0\n",
    "    model.train()\n",
    "    for train_sample in tqdm.tqdm(train_loader):\n",
    "        optimizer.zero_grad()\n",
    "        train_sample.to(device)\n",
    "        pred = model(train_sample)\n",
    "        label = train_sample['user', 'rates', 'movie'].edge_label\n",
    "        loss = F.cross_entropy(pred, label)\n",
    "        loss.backward()\n",
    "        optimizer.step()\n",
    "        total_loss += loss.item() * label.size(0) # TODO: numel?!\n",
    "        total_examples += label.size(0)\n",
    "\n",
    "    preds = []\n",
    "    ground_truths = []\n",
    "    model.eval()\n",
    "    for val_sample in tqdm.tqdm(val_loader):\n",
    "        with torch.no_grad():\n",
    "            val_sample.to(device)\n",
    "            preds.append(model(val_sample))\n",
    "            ground_truths.append(val_sample[\"user\", \"rates\", \"movie\"].edge_label)\n",
    "    pred = torch.softmax(torch.cat(preds, dim=0), dim=1).cpu().numpy()\n",
    "    ground_truth = torch.cat(ground_truths, dim=0).cpu().numpy()\n",
    "    auc = roc_auc_score(ground_truth, pred, multi_class='ovo')\n",
    "    if epoch % 1 == 0: \n",
    "        print(f'Epoch: {epoch:03d}, Loss:{total_loss/total_examples:.4f}')\n",
    "        print(f\"Validation AUC: {auc:.4f}\")\n",
    "\n",
    "if save: torch.save(model, f\"./model/auc_{int(auc*10000)}.pt\")"
   ]
  },
  {
   "cell_type": "code",
   "execution_count": null,
   "metadata": {},
   "outputs": [],
   "source": []
  },
  {
   "cell_type": "code",
   "execution_count": null,
   "metadata": {},
   "outputs": [],
   "source": []
  }
 ],
 "metadata": {
  "kernelspec": {
   "display_name": "Python 3 (ipykernel)",
   "language": "python",
   "name": "python3"
  },
  "language_info": {
   "codemirror_mode": {
    "name": "ipython",
    "version": 3
   },
   "file_extension": ".py",
   "mimetype": "text/x-python",
   "name": "python",
   "nbconvert_exporter": "python",
   "pygments_lexer": "ipython3",
   "version": "3.10.12"
  }
 },
 "nbformat": 4,
 "nbformat_minor": 2
}
