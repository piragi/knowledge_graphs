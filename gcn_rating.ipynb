{
 "cells": [
  {
   "cell_type": "code",
   "execution_count": 283,
   "metadata": {},
   "outputs": [
    {
     "data": {
      "text/plain": [
       "<torch._C.Generator at 0x7008f82b3470>"
      ]
     },
     "execution_count": 283,
     "metadata": {},
     "output_type": "execute_result"
    }
   ],
   "source": [
    "import torch\n",
    "torch.manual_seed(420)"
   ]
  },
  {
   "cell_type": "code",
   "execution_count": 477,
   "metadata": {},
   "outputs": [
    {
     "name": "stdout",
     "output_type": "stream",
     "text": [
      "   userId  movieId  rating  timestamp\n",
      "0       1        1     4.0  964982703\n",
      "2       1        6     4.0  964982224\n",
      "3       1       47     5.0  964983815\n",
      "4       1       50     5.0  964982931\n",
      "5       1       70     3.0  964982400\n",
      "2427\n",
      "55445\n"
     ]
    }
   ],
   "source": [
    "import torch\n",
    "from torch import Tensor\n",
    "import csv\n",
    "import pandas as pd\n",
    "\n",
    "\n",
    "def read_movies():\n",
    "    # read csv with movies for budget and imdb_id\n",
    "    columns_of_interest = ['budget', 'imdb_id', 'revenue', 'vote_average', 'directors', 'vote_count']\n",
    "    data = []\n",
    "    with open('./data/movie_data_tmbd.csv', 'r', encoding='utf-8') as file:\n",
    "        reader = csv.DictReader(file, delimiter='|')\n",
    "        for row in reader:\n",
    "            extracted_row = {col: row[col] for col in columns_of_interest}\n",
    "            data.append(extracted_row)\n",
    "\n",
    "    movies_budget_df = pd.DataFrame(data)\n",
    "    movies_budget_df = movies_budget_df.fillna({\n",
    "        'budget': 0,\n",
    "        'imdb_id': '',\n",
    "        'title': '',\n",
    "        'director': '',\n",
    "        'revenue': 0,\n",
    "        'vote_count': 0,\n",
    "    })\n",
    "\n",
    "    # merge movie budget with id\n",
    "    link_df = pd.read_csv(\"./data/small/links.csv\")\n",
    "    link_df['imdbId'] = link_df['imdbId'].apply(lambda x: f'tt0{int(x)}')\n",
    "\n",
    "    movies_id_df = pd.merge(movies_budget_df, link_df, left_on='imdb_id', right_on='imdbId', how='inner')\n",
    "    movies_id_df['budget'] = pd.to_numeric(movies_id_df['budget'])\n",
    "    movies_id_df['revenue'] = pd.to_numeric(movies_id_df['revenue'])\n",
    "    movies_id_df['vote_count'] = pd.to_numeric(movies_id_df['vote_count'])\n",
    "    movies_id_df = movies_id_df[movies_id_df.budget != 0]\n",
    "    movies_id_df = movies_id_df[movies_id_df.revenue != 0]\n",
    "\n",
    "    movies_info_df = pd.read_csv(\"./data/small/movies.csv\")\n",
    "    movies_df = pd.merge(movies_id_df, movies_info_df, on=\"movieId\", how=\"inner\")\n",
    "\n",
    "    ratings_df = pd.read_csv(\"./data/small/ratings.csv\")\n",
    "    #ratings_df = ratings_df.iloc[:ratings_df.shape[0]//10]\n",
    "    ratings_df = ratings_df[ratings_df['movieId'].isin(movies_df['movieId'])]\n",
    "\n",
    "    return movies_df, ratings_df\n",
    "\n",
    "movies_df, ratings_df = read_movies()\n",
    "#print(movies_df.head())\n",
    "print(ratings_df.head())\n",
    "print(len(movies_df))\n",
    "print(len(ratings_df))"
   ]
  },
  {
   "cell_type": "code",
   "execution_count": 478,
   "metadata": {},
   "outputs": [
    {
     "name": "stdout",
     "output_type": "stream",
     "text": [
      "torch.Size([2427, 23])\n"
     ]
    },
    {
     "name": "stderr",
     "output_type": "stream",
     "text": [
      "/tmp/ipykernel_2261/3551655568.py:3: FutureWarning: A value is trying to be set on a copy of a DataFrame or Series through chained assignment using an inplace method.\n",
      "The behavior will change in pandas 3.0. This inplace method will never work because the intermediate object on which we are setting values always behaves as a copy.\n",
      "\n",
      "For example, when doing 'df[col].method(value, inplace=True)', try using 'df.method({col: value}, inplace=True)' or df[col] = df[col].method(value) instead, to perform the operation inplace on the original object.\n",
      "\n",
      "\n",
      "  movies_df['vote_average'].fillna(5.0, inplace=True)\n"
     ]
    }
   ],
   "source": [
    "genres = movies_df['genres'].str.get_dummies('|')\n",
    "movie_feat = torch.from_numpy(genres.values).to(torch.float)\n",
    "movies_df['vote_average'].fillna(5.0, inplace=True)\n",
    "\n",
    "vote_average = torch.from_numpy(movies_df['vote_average'].astype(float).values).to(torch.float).unsqueeze(-1)\n",
    "revenue = torch.from_numpy(movies_df['revenue'].values).to(torch.float).unsqueeze(-1)\n",
    "budget = torch.from_numpy(movies_df['budget'].values).to(torch.float).unsqueeze(-1)\n",
    "vote_count = torch.from_numpy(movies_df['vote_count'].values).to(torch.float).unsqueeze(-1)\n",
    "\n",
    "standardize = lambda x: (x - x.mean()) / x.std()\n",
    "\n",
    "vote_average = standardize(vote_average)\n",
    "revenue = standardize(revenue)\n",
    "budget = standardize(budget)\n",
    "vote_count = standardize(vote_count)\n",
    "\n",
    "movie_feat = torch.cat([movie_feat, vote_count, vote_average, revenue, budget], dim=1)\n",
    "\n",
    "print(movie_feat.shape)"
   ]
  },
  {
   "cell_type": "code",
   "execution_count": 479,
   "metadata": {},
   "outputs": [],
   "source": [
    "ratings_df['rating_classes'], unique_classes = pd.factorize(ratings_df['rating'])"
   ]
  },
  {
   "cell_type": "code",
   "execution_count": 480,
   "metadata": {},
   "outputs": [
    {
     "name": "stdout",
     "output_type": "stream",
     "text": [
      "0    [{'credit_id': '52fe4640c3a36847f80f4a8b', 'de...\n",
      "1    [{'credit_id': '52fe4652c3a36847f80f8afb', 'de...\n",
      "2    [{'credit_id': '52fe466bc3a36847f80fdfb9', 'de...\n",
      "3    [{'credit_id': '52fe466dc3a36847f80fe76d', 'de...\n",
      "4    [{'credit_id': '57aa51cac3a368570a000786', 'de...\n",
      "Name: directors, dtype: object\n"
     ]
    }
   ],
   "source": [
    "import pandas as pd\n",
    "from ast import literal_eval\n",
    "\n",
    "# Check if conversion is needed and perform it safely\n",
    "def safe_literal_eval(s):\n",
    "    try:\n",
    "        if isinstance(s, str):\n",
    "            return literal_eval(s)\n",
    "        else:\n",
    "            return s  # assuming s is already the correct format\n",
    "    except (ValueError, SyntaxError):\n",
    "        return None\n",
    "\n",
    "movies_df['directors'] = movies_df['directors'].apply(safe_literal_eval)\n",
    "\n",
    "# Check the result after conversion\n",
    "print(movies_df['directors'].head())"
   ]
  },
  {
   "cell_type": "code",
   "execution_count": 481,
   "metadata": {},
   "outputs": [
    {
     "name": "stdout",
     "output_type": "stream",
     "text": [
      "0    {'credit_id': '52fe4640c3a36847f80f4a8b', 'dep...\n",
      "1    {'credit_id': '52fe4652c3a36847f80f8afb', 'dep...\n",
      "2    {'credit_id': '52fe466bc3a36847f80fdfb9', 'dep...\n",
      "2    {'credit_id': '52fe466bc3a36847f80fdfb3', 'dep...\n",
      "3    {'credit_id': '52fe466dc3a36847f80fe76d', 'dep...\n",
      "Name: directors, dtype: object\n"
     ]
    }
   ],
   "source": [
    "# Explode the DataFrame on the 'directors' column if the data is correctly formatted as lists of dictionaries\n",
    "directors_expanded = movies_df.explode('directors').dropna()\n",
    "\n",
    "# Check the first few rows to ensure explosion worked\n",
    "print(directors_expanded['directors'].head())"
   ]
  },
  {
   "cell_type": "code",
   "execution_count": 482,
   "metadata": {},
   "outputs": [
    {
     "name": "stdout",
     "output_type": "stream",
     "text": [
      "   director_id  director_name\n",
      "0         9181   Edward Zwick\n",
      "1        59291  Alexandre Aja\n",
      "2        53068     Ryan Fleck\n",
      "2        53069     Anna Boden\n",
      "3         3026     Rob Reiner\n"
     ]
    }
   ],
   "source": [
    "# Normalize the directors' dictionary data into separate DataFrame columns\n",
    "if not directors_expanded['directors'].isnull().all():  # Check if all values are not None\n",
    "    directors_expanded[['director_id', 'director_name']] = directors_expanded['directors'].apply(lambda d: pd.Series({'id': d['id'], 'name': d['name']}) if pd.notna(d) else pd.Series({'id': None, 'name': None}))\n",
    "else:\n",
    "    print(\"No valid director data available.\")\n",
    "\n",
    "# Check if the new columns are filled correctly\n",
    "print(directors_expanded[['director_id', 'director_name']].head())"
   ]
  },
  {
   "cell_type": "code",
   "execution_count": 483,
   "metadata": {},
   "outputs": [
    {
     "name": "stdout",
     "output_type": "stream",
     "text": [
      "   director_name  vote_average\n",
      "0   Edward Zwick           7.0\n",
      "1  Alexandre Aja           5.3\n",
      "2     Ryan Fleck           7.0\n",
      "2     Anna Boden           7.0\n",
      "3     Rob Reiner           7.7\n"
     ]
    }
   ],
   "source": [
    "import pandas as pd\n",
    "from ast import literal_eval\n",
    "\n",
    "# Convert the 'vote_average' to float\n",
    "directors_expanded['vote_average'] = pd.to_numeric(directors_expanded['vote_average'], errors='coerce')\n",
    "\n",
    "# Check if the conversion was successful\n",
    "print(directors_expanded[['director_name', 'vote_average']].head())"
   ]
  },
  {
   "cell_type": "code",
   "execution_count": 484,
   "metadata": {},
   "outputs": [
    {
     "name": "stdout",
     "output_type": "stream",
     "text": [
      "(1229, 2)\n"
     ]
    }
   ],
   "source": [
    "# Group by director name and calculate mean ratings and count of movies\n",
    "director_stats = directors_expanded.groupby('director_name').agg({\n",
    "    'vote_average': ['mean', 'count']\n",
    "}).reset_index()\n",
    "\n",
    "# Flatten the multi-level column headers\n",
    "director_stats.columns = ['director', 'average_rating', 'movie_counts']\n",
    "director_stats = director_stats[['average_rating','movie_counts']]\n",
    "# Display the resulting DataFrame\n",
    "print(director_stats.shape)"
   ]
  },
  {
   "cell_type": "code",
   "execution_count": 485,
   "metadata": {},
   "outputs": [],
   "source": [
    "director_stats['average_rating'] = standardize(director_stats['average_rating'])\n",
    "director_stats['movie_counts'] = standardize(director_stats['movie_counts'])"
   ]
  },
  {
   "cell_type": "code",
   "execution_count": 486,
   "metadata": {},
   "outputs": [
    {
     "data": {
      "text/plain": [
       "torch.Size([1229, 2])"
      ]
     },
     "execution_count": 486,
     "metadata": {},
     "output_type": "execute_result"
    }
   ],
   "source": [
    "director_stats = torch.from_numpy(director_stats.values).to(torch.float)\n",
    "director_stats.shape"
   ]
  },
  {
   "cell_type": "code",
   "execution_count": 487,
   "metadata": {},
   "outputs": [
    {
     "name": "stdout",
     "output_type": "stream",
     "text": [
      "1229\n"
     ]
    }
   ],
   "source": [
    "directors_expanded = directors_expanded[['movieId', 'director_name', 'director_id']]\n",
    "movies_extended_df = pd.merge(movies_df, directors_expanded, on='movieId', how='left')\n",
    "movies_extended_df = movies_extended_df.dropna(subset=['director_name'])\n",
    "print(len(movies_extended_df['director_name'].unique()))"
   ]
  },
  {
   "cell_type": "code",
   "execution_count": 488,
   "metadata": {},
   "outputs": [
    {
     "name": "stdout",
     "output_type": "stream",
     "text": [
      "['Edward Zwick' 'Alexandre Aja' 'Ryan Fleck' ... 'Oliver Parker'\n",
      " 'Adam Elliot' 'Lance Mungia']\n"
     ]
    }
   ],
   "source": [
    "print(movies_extended_df['director_name'].unique())"
   ]
  },
  {
   "cell_type": "code",
   "execution_count": 489,
   "metadata": {},
   "outputs": [
    {
     "data": {
      "text/plain": [
       "array([82167, 79879, 80693, ...,  2275,  4141,  6289])"
      ]
     },
     "execution_count": 489,
     "metadata": {},
     "output_type": "execute_result"
    }
   ],
   "source": [
    "movies_extended_df['movieId'].unique()"
   ]
  },
  {
   "cell_type": "code",
   "execution_count": 400,
   "metadata": {},
   "outputs": [
    {
     "name": "stdout",
     "output_type": "stream",
     "text": [
      "torch.Size([2, 2605])\n"
     ]
    }
   ],
   "source": [
    "unique_director_id = movies_extended_df['director_id'].unique()\n",
    "unique_director_id = pd.DataFrame(data={\n",
    "    'director_id': unique_director_id,\n",
    "    'mappedId': pd.RangeIndex(len(unique_director_id))\n",
    "})\n",
    "unique_movie_id = movies_extended_df['movieId'].unique()\n",
    "unique_movie_id = pd.DataFrame(data={\n",
    "    'movieId': unique_movie_id,\n",
    "    'mappedId': pd.RangeIndex(len(unique_movie_id))\n",
    "})\n",
    "\n",
    "director_director_id = pd.merge(movies_extended_df['director_id'], unique_director_id, on='director_id', how='left')\n",
    "director_director_id = torch.from_numpy(director_director_id['mappedId'].values)\n",
    "director_movie_id = pd.merge(movies_extended_df['movieId'], unique_movie_id, on='movieId', how='left')\n",
    "director_movie_id = torch.from_numpy(director_movie_id['mappedId'].values)\n",
    "\n",
    "edge_index_director_to_movie = torch.stack([director_director_id, director_movie_id], dim=0)\n",
    "print(edge_index_director_to_movie.shape)"
   ]
  },
  {
   "cell_type": "code",
   "execution_count": 490,
   "metadata": {},
   "outputs": [],
   "source": [
    "# construct a compact representation of the data\n",
    "unique_user_id = ratings_df['userId'].unique()\n",
    "unique_user_id = pd.DataFrame(data={\n",
    "    'userId': unique_user_id,\n",
    "    'mappedId': pd.RangeIndex(len(unique_user_id)),\n",
    "})\n",
    "unique_movie_id = ratings_df['movieId'].unique()\n",
    "unique_movie_id = pd.DataFrame(data={\n",
    "    'movieId': unique_movie_id,\n",
    "    'mappedId': pd.RangeIndex(len(unique_movie_id)),\n",
    "})\n",
    "\n",
    "ratings_user_id = pd.merge(ratings_df['userId'], unique_user_id, on='userId', how='left')\n",
    "ratings_user_id = torch.from_numpy(ratings_user_id['mappedId'].values)\n",
    "ratings_movie_id = pd.merge(ratings_df['movieId'], unique_movie_id, on='movieId', how='left')\n",
    "ratings_movie_id = torch.from_numpy(ratings_movie_id['mappedId'].values)\n",
    "\n",
    "edge_index_user_to_movie = torch.stack([ratings_user_id, ratings_movie_id], dim=0)"
   ]
  },
  {
   "cell_type": "code",
   "execution_count": 402,
   "metadata": {},
   "outputs": [
    {
     "name": "stdout",
     "output_type": "stream",
     "text": [
      "1229\n",
      "torch.Size([1229, 2])\n"
     ]
    }
   ],
   "source": [
    "print(len(movies_extended_df['director_id'].unique()))\n",
    "print(director_stats.shape)"
   ]
  },
  {
   "cell_type": "code",
   "execution_count": 403,
   "metadata": {},
   "outputs": [
    {
     "data": {
      "text/plain": [
       "torch.Size([55445])"
      ]
     },
     "execution_count": 403,
     "metadata": {},
     "output_type": "execute_result"
    }
   ],
   "source": [
    "torch.from_numpy(ratings_df['rating'].values).shape"
   ]
  },
  {
   "cell_type": "code",
   "execution_count": 404,
   "metadata": {},
   "outputs": [
    {
     "data": {
      "text/plain": [
       "torch.Size([2, 55445])"
      ]
     },
     "execution_count": 404,
     "metadata": {},
     "output_type": "execute_result"
    }
   ],
   "source": [
    "edge_index_user_to_movie.shape"
   ]
  },
  {
   "cell_type": "code",
   "execution_count": 405,
   "metadata": {},
   "outputs": [
    {
     "name": "stdout",
     "output_type": "stream",
     "text": [
      "2427\n"
     ]
    }
   ],
   "source": [
    "print(len(ratings_df['movieId'].unique()))"
   ]
  },
  {
   "cell_type": "code",
   "execution_count": 498,
   "metadata": {},
   "outputs": [
    {
     "name": "stdout",
     "output_type": "stream",
     "text": [
      "HeteroData(\n",
      "  user={ node_id=[609] },\n",
      "  movie={\n",
      "    node_id=[2427],\n",
      "    x=[2427, 23],\n",
      "  },\n",
      "  director={\n",
      "    node_id=[1229],\n",
      "    x=[1229, 2],\n",
      "  },\n",
      "  (user, rates, movie)={ edge_index=[2, 25903] },\n",
      "  (director, directs, movie)={ edge_index=[2, 2605] },\n",
      "  (movie, rev_rates, user)={ edge_index=[2, 25903] },\n",
      "  (movie, rev_directs, director)={ edge_index=[2, 2605] }\n",
      ")\n"
     ]
    }
   ],
   "source": [
    "from torch_geometric.data import HeteroData\n",
    "import torch_geometric.transforms as T\n",
    "\n",
    "data = HeteroData()\n",
    "# save node indices\n",
    "data['user'].node_id = torch.arange(len(unique_user_id))\n",
    "data['movie'].node_id = torch.arange(len(unique_movie_id))\n",
    "data['director'].node_id = torch.arange(len(unique_director_id))\n",
    "\n",
    "# add node features\n",
    "data['movie'].x = movie_feat\n",
    "data['director'].x = director_stats\n",
    "data['user', 'rates', 'movie'].edge_index = edge_index_user_to_movie\n",
    "data['user', 'rates', 'movie'].edge_label = torch.from_numpy(ratings_df['rating'].values).to(torch.long) # TODO: this cuts off the .5 steps\n",
    "mask = data['user', 'rates', 'movie'].edge_label >= 4\n",
    "data['user', 'rates', 'movie'].edge_index = data['user', 'rates', 'movie'].edge_index[:, mask]\n",
    "#data['user', 'rates', 'movie'].edge_label = torch.ones(data['user', 'rates', 'movie'].edge_index.shape[1])\n",
    "del data['user', 'rates', 'movie'].edge_label \n",
    "data['director', 'directs', 'movie'].edge_index = edge_index_director_to_movie\n",
    "#data['director', 'directs', 'movie'].edge_label = torch.ones(edge_index_director_to_movie.shape[1]).to(torch.long)\n",
    "del data['director', 'directs', 'movie'].edge_label\n",
    "data = T.ToUndirected()(data)\n",
    "print(data)"
   ]
  },
  {
   "cell_type": "code",
   "execution_count": 407,
   "metadata": {},
   "outputs": [
    {
     "name": "stdout",
     "output_type": "stream",
     "text": [
      "torch.Size([2, 55445])\n",
      "torch.Size([2, 25903])\n"
     ]
    },
    {
     "ename": "AttributeError",
     "evalue": "'EdgeStorage' object has no attribute 'edge_label'",
     "output_type": "error",
     "traceback": [
      "\u001b[0;31m---------------------------------------------------------------------------\u001b[0m",
      "\u001b[0;31mAttributeError\u001b[0m                            Traceback (most recent call last)",
      "Cell \u001b[0;32mIn[407], line 3\u001b[0m\n\u001b[1;32m      1\u001b[0m \u001b[38;5;28mprint\u001b[39m(edge_index_user_to_movie\u001b[38;5;241m.\u001b[39mshape)\n\u001b[1;32m      2\u001b[0m \u001b[38;5;28mprint\u001b[39m(data[\u001b[38;5;124m'\u001b[39m\u001b[38;5;124muser\u001b[39m\u001b[38;5;124m'\u001b[39m, \u001b[38;5;124m'\u001b[39m\u001b[38;5;124mrates\u001b[39m\u001b[38;5;124m'\u001b[39m, \u001b[38;5;124m'\u001b[39m\u001b[38;5;124mmovie\u001b[39m\u001b[38;5;124m'\u001b[39m]\u001b[38;5;241m.\u001b[39medge_index\u001b[38;5;241m.\u001b[39mshape)\n\u001b[0;32m----> 3\u001b[0m \u001b[38;5;28mprint\u001b[39m(\u001b[43mdata\u001b[49m\u001b[43m[\u001b[49m\u001b[38;5;124;43m'\u001b[39;49m\u001b[38;5;124;43muser\u001b[39;49m\u001b[38;5;124;43m'\u001b[39;49m\u001b[43m,\u001b[49m\u001b[43m \u001b[49m\u001b[38;5;124;43m'\u001b[39;49m\u001b[38;5;124;43mrates\u001b[39;49m\u001b[38;5;124;43m'\u001b[39;49m\u001b[43m,\u001b[49m\u001b[43m \u001b[49m\u001b[38;5;124;43m'\u001b[39;49m\u001b[38;5;124;43mmovie\u001b[39;49m\u001b[38;5;124;43m'\u001b[39;49m\u001b[43m]\u001b[49m\u001b[38;5;241;43m.\u001b[39;49m\u001b[43medge_label\u001b[49m\u001b[38;5;241m.\u001b[39mshape)\n",
      "File \u001b[0;32m~/projects/knowledge_graphs/torchg_env/lib/python3.10/site-packages/torch_geometric/data/storage.py:96\u001b[0m, in \u001b[0;36mBaseStorage.__getattr__\u001b[0;34m(self, key)\u001b[0m\n\u001b[1;32m     94\u001b[0m     \u001b[38;5;28;01mreturn\u001b[39;00m \u001b[38;5;28mself\u001b[39m[key]\n\u001b[1;32m     95\u001b[0m \u001b[38;5;28;01mexcept\u001b[39;00m \u001b[38;5;167;01mKeyError\u001b[39;00m:\n\u001b[0;32m---> 96\u001b[0m     \u001b[38;5;28;01mraise\u001b[39;00m \u001b[38;5;167;01mAttributeError\u001b[39;00m(\n\u001b[1;32m     97\u001b[0m         \u001b[38;5;124mf\u001b[39m\u001b[38;5;124m\"\u001b[39m\u001b[38;5;124m'\u001b[39m\u001b[38;5;132;01m{\u001b[39;00m\u001b[38;5;28mself\u001b[39m\u001b[38;5;241m.\u001b[39m\u001b[38;5;18m__class__\u001b[39m\u001b[38;5;241m.\u001b[39m\u001b[38;5;18m__name__\u001b[39m\u001b[38;5;132;01m}\u001b[39;00m\u001b[38;5;124m'\u001b[39m\u001b[38;5;124m object has no attribute \u001b[39m\u001b[38;5;124m'\u001b[39m\u001b[38;5;132;01m{\u001b[39;00mkey\u001b[38;5;132;01m}\u001b[39;00m\u001b[38;5;124m'\u001b[39m\u001b[38;5;124m\"\u001b[39m\n\u001b[1;32m     98\u001b[0m     ) \u001b[38;5;28;01mfrom\u001b[39;00m \u001b[38;5;28;01mNone\u001b[39;00m\n",
      "\u001b[0;31mAttributeError\u001b[0m: 'EdgeStorage' object has no attribute 'edge_label'"
     ]
    }
   ],
   "source": [
    "print(edge_index_user_to_movie.shape)\n",
    "print(data['user', 'rates', 'movie'].edge_index.shape)\n",
    "print(data['user', 'rates', 'movie'].edge_label.shape)"
   ]
  },
  {
   "cell_type": "code",
   "execution_count": null,
   "metadata": {},
   "outputs": [
    {
     "name": "stdout",
     "output_type": "stream",
     "text": [
      "1229\n",
      "torch.Size([1229, 2])\n",
      "torch.Size([2427, 23])\n",
      "2427\n"
     ]
    }
   ],
   "source": [
    "print(len(unique_director_id))\n",
    "print(director_stats.shape)\n",
    "print(movie_feat.shape)\n",
    "print(len(data['movie'].node_id))"
   ]
  },
  {
   "cell_type": "code",
   "execution_count": null,
   "metadata": {},
   "outputs": [
    {
     "ename": "AttributeError",
     "evalue": "'EdgeStorage' object has no attribute 'edge_label'",
     "output_type": "error",
     "traceback": [
      "\u001b[0;31m---------------------------------------------------------------------------\u001b[0m",
      "\u001b[0;31mAttributeError\u001b[0m                            Traceback (most recent call last)",
      "Cell \u001b[0;32mIn[361], line 1\u001b[0m\n\u001b[0;32m----> 1\u001b[0m \u001b[38;5;28mprint\u001b[39m(\u001b[43mdata\u001b[49m\u001b[43m[\u001b[49m\u001b[38;5;124;43m'\u001b[39;49m\u001b[38;5;124;43muser\u001b[39;49m\u001b[38;5;124;43m'\u001b[39;49m\u001b[43m,\u001b[49m\u001b[43m \u001b[49m\u001b[38;5;124;43m'\u001b[39;49m\u001b[38;5;124;43mrates\u001b[39;49m\u001b[38;5;124;43m'\u001b[39;49m\u001b[43m,\u001b[49m\u001b[43m \u001b[49m\u001b[38;5;124;43m'\u001b[39;49m\u001b[38;5;124;43mmovie\u001b[39;49m\u001b[38;5;124;43m'\u001b[39;49m\u001b[43m]\u001b[49m\u001b[38;5;241;43m.\u001b[39;49m\u001b[43medge_label\u001b[49m)\n\u001b[1;32m      2\u001b[0m \u001b[38;5;28mprint\u001b[39m(ratings_df[\u001b[38;5;124m'\u001b[39m\u001b[38;5;124mrating\u001b[39m\u001b[38;5;124m'\u001b[39m]\u001b[38;5;241m.\u001b[39mvalues)\n",
      "File \u001b[0;32m~/projects/knowledge_graphs/torchg_env/lib/python3.10/site-packages/torch_geometric/data/storage.py:96\u001b[0m, in \u001b[0;36mBaseStorage.__getattr__\u001b[0;34m(self, key)\u001b[0m\n\u001b[1;32m     94\u001b[0m     \u001b[38;5;28;01mreturn\u001b[39;00m \u001b[38;5;28mself\u001b[39m[key]\n\u001b[1;32m     95\u001b[0m \u001b[38;5;28;01mexcept\u001b[39;00m \u001b[38;5;167;01mKeyError\u001b[39;00m:\n\u001b[0;32m---> 96\u001b[0m     \u001b[38;5;28;01mraise\u001b[39;00m \u001b[38;5;167;01mAttributeError\u001b[39;00m(\n\u001b[1;32m     97\u001b[0m         \u001b[38;5;124mf\u001b[39m\u001b[38;5;124m\"\u001b[39m\u001b[38;5;124m'\u001b[39m\u001b[38;5;132;01m{\u001b[39;00m\u001b[38;5;28mself\u001b[39m\u001b[38;5;241m.\u001b[39m\u001b[38;5;18m__class__\u001b[39m\u001b[38;5;241m.\u001b[39m\u001b[38;5;18m__name__\u001b[39m\u001b[38;5;132;01m}\u001b[39;00m\u001b[38;5;124m'\u001b[39m\u001b[38;5;124m object has no attribute \u001b[39m\u001b[38;5;124m'\u001b[39m\u001b[38;5;132;01m{\u001b[39;00mkey\u001b[38;5;132;01m}\u001b[39;00m\u001b[38;5;124m'\u001b[39m\u001b[38;5;124m\"\u001b[39m\n\u001b[1;32m     98\u001b[0m     ) \u001b[38;5;28;01mfrom\u001b[39;00m \u001b[38;5;28;01mNone\u001b[39;00m\n",
      "\u001b[0;31mAttributeError\u001b[0m: 'EdgeStorage' object has no attribute 'edge_label'"
     ]
    }
   ],
   "source": [
    "print(data['user', 'rates', 'movie'].edge_label)\n",
    "print(ratings_df['rating'].values)"
   ]
  },
  {
   "cell_type": "code",
   "execution_count": 499,
   "metadata": {},
   "outputs": [],
   "source": [
    "transform = T.RandomLinkSplit(\n",
    "    num_val=0.1,\n",
    "    num_test=0.1,\n",
    "    disjoint_train_ratio=0.3,\n",
    "    neg_sampling_ratio=2.0,\n",
    "    add_negative_train_samples=False,\n",
    "    edge_types=[(\"user\", \"rates\", \"movie\"), (\"director\", \"directs\", \"movie\")],\n",
    "    rev_edge_types=[(\"movie\", \"rev_rates\", \"user\"), (\"movie\", \"rev_directs\", \"director\")],\n",
    ")\n",
    "train_data, val_data, test_data = transform(data)"
   ]
  },
  {
   "cell_type": "code",
   "execution_count": 409,
   "metadata": {},
   "outputs": [
    {
     "ename": "AttributeError",
     "evalue": "'EdgeStorage' object has no attribute 'edge_label'",
     "output_type": "error",
     "traceback": [
      "\u001b[0;31m---------------------------------------------------------------------------\u001b[0m",
      "\u001b[0;31mAttributeError\u001b[0m                            Traceback (most recent call last)",
      "Cell \u001b[0;32mIn[409], line 1\u001b[0m\n\u001b[0;32m----> 1\u001b[0m \u001b[38;5;28mprint\u001b[39m(\u001b[43mdata\u001b[49m\u001b[43m[\u001b[49m\u001b[38;5;124;43m'\u001b[39;49m\u001b[38;5;124;43muser\u001b[39;49m\u001b[38;5;124;43m'\u001b[39;49m\u001b[43m,\u001b[49m\u001b[43m \u001b[49m\u001b[38;5;124;43m'\u001b[39;49m\u001b[38;5;124;43mrates\u001b[39;49m\u001b[38;5;124;43m'\u001b[39;49m\u001b[43m,\u001b[49m\u001b[43m \u001b[49m\u001b[38;5;124;43m'\u001b[39;49m\u001b[38;5;124;43mmovie\u001b[39;49m\u001b[38;5;124;43m'\u001b[39;49m\u001b[43m]\u001b[49m\u001b[38;5;241;43m.\u001b[39;49m\u001b[43medge_label\u001b[49m\u001b[38;5;241m.\u001b[39munique())\n\u001b[1;32m      2\u001b[0m \u001b[38;5;28mprint\u001b[39m(torch\u001b[38;5;241m.\u001b[39mfrom_numpy(ratings_df[\u001b[38;5;124m'\u001b[39m\u001b[38;5;124mrating\u001b[39m\u001b[38;5;124m'\u001b[39m]\u001b[38;5;241m.\u001b[39mvalues)\u001b[38;5;241m.\u001b[39mto(torch\u001b[38;5;241m.\u001b[39mlong)\u001b[38;5;241m.\u001b[39munique())\n\u001b[1;32m      3\u001b[0m train_data[\u001b[38;5;124m'\u001b[39m\u001b[38;5;124muser\u001b[39m\u001b[38;5;124m'\u001b[39m, \u001b[38;5;124m'\u001b[39m\u001b[38;5;124mrates\u001b[39m\u001b[38;5;124m'\u001b[39m, \u001b[38;5;124m'\u001b[39m\u001b[38;5;124mmovie\u001b[39m\u001b[38;5;124m'\u001b[39m]\u001b[38;5;241m.\u001b[39medge_label\u001b[38;5;241m.\u001b[39munique()\n",
      "File \u001b[0;32m~/projects/knowledge_graphs/torchg_env/lib/python3.10/site-packages/torch_geometric/data/storage.py:96\u001b[0m, in \u001b[0;36mBaseStorage.__getattr__\u001b[0;34m(self, key)\u001b[0m\n\u001b[1;32m     94\u001b[0m     \u001b[38;5;28;01mreturn\u001b[39;00m \u001b[38;5;28mself\u001b[39m[key]\n\u001b[1;32m     95\u001b[0m \u001b[38;5;28;01mexcept\u001b[39;00m \u001b[38;5;167;01mKeyError\u001b[39;00m:\n\u001b[0;32m---> 96\u001b[0m     \u001b[38;5;28;01mraise\u001b[39;00m \u001b[38;5;167;01mAttributeError\u001b[39;00m(\n\u001b[1;32m     97\u001b[0m         \u001b[38;5;124mf\u001b[39m\u001b[38;5;124m\"\u001b[39m\u001b[38;5;124m'\u001b[39m\u001b[38;5;132;01m{\u001b[39;00m\u001b[38;5;28mself\u001b[39m\u001b[38;5;241m.\u001b[39m\u001b[38;5;18m__class__\u001b[39m\u001b[38;5;241m.\u001b[39m\u001b[38;5;18m__name__\u001b[39m\u001b[38;5;132;01m}\u001b[39;00m\u001b[38;5;124m'\u001b[39m\u001b[38;5;124m object has no attribute \u001b[39m\u001b[38;5;124m'\u001b[39m\u001b[38;5;132;01m{\u001b[39;00mkey\u001b[38;5;132;01m}\u001b[39;00m\u001b[38;5;124m'\u001b[39m\u001b[38;5;124m\"\u001b[39m\n\u001b[1;32m     98\u001b[0m     ) \u001b[38;5;28;01mfrom\u001b[39;00m \u001b[38;5;28;01mNone\u001b[39;00m\n",
      "\u001b[0;31mAttributeError\u001b[0m: 'EdgeStorage' object has no attribute 'edge_label'"
     ]
    }
   ],
   "source": [
    "print(data['user', 'rates', 'movie'].edge_label.unique())\n",
    "print(torch.from_numpy(ratings_df['rating'].values).to(torch.long).unique())\n",
    "train_data['user', 'rates', 'movie'].edge_label.unique()"
   ]
  },
  {
   "cell_type": "code",
   "execution_count": 500,
   "metadata": {},
   "outputs": [
    {
     "name": "stdout",
     "output_type": "stream",
     "text": [
      "HeteroData(\n",
      "  user={\n",
      "    node_id=[595],\n",
      "    n_id=[595],\n",
      "    num_sampled_nodes=[4],\n",
      "  },\n",
      "  movie={\n",
      "    node_id=[1595],\n",
      "    x=[1595, 23],\n",
      "    n_id=[1595],\n",
      "    num_sampled_nodes=[4],\n",
      "  },\n",
      "  director={\n",
      "    node_id=[576],\n",
      "    x=[576, 2],\n",
      "    n_id=[576],\n",
      "    num_sampled_nodes=[4],\n",
      "  },\n",
      "  (user, rates, movie)={\n",
      "    edge_index=[2, 8269],\n",
      "    edge_label=[384],\n",
      "    edge_label_index=[2, 384],\n",
      "    e_id=[8269],\n",
      "    num_sampled_edges=[3],\n",
      "    input_id=[128],\n",
      "  },\n",
      "  (director, directs, movie)={\n",
      "    edge_index=[2, 929],\n",
      "    edge_label=[625],\n",
      "    edge_label_index=[2, 625],\n",
      "    e_id=[929],\n",
      "    num_sampled_edges=[3],\n",
      "  },\n",
      "  (movie, rev_rates, user)={\n",
      "    edge_index=[2, 6525],\n",
      "    e_id=[6525],\n",
      "    num_sampled_edges=[3],\n",
      "  },\n",
      "  (movie, rev_directs, director)={\n",
      "    edge_index=[2, 1052],\n",
      "    e_id=[1052],\n",
      "    num_sampled_edges=[3],\n",
      "  }\n",
      ")\n"
     ]
    }
   ],
   "source": [
    "from torch_geometric.loader import LinkNeighborLoader\n",
    "# Example configuration with correct tuple formatting for edge_label_index:\n",
    "train_loader = LinkNeighborLoader(\n",
    "    data=train_data,\n",
    "    num_neighbors=[20,10, 10],\n",
    "    edge_label_index=(('user', 'rates', 'movie'), train_data['user', 'rates', 'movie'].edge_label_index),  # Correct tuple format\n",
    "    # edge_label=train_data['user', 'rates', 'movie'].edge_label,  # Labels for the edges\n",
    "    batch_size=128,\n",
    "    shuffle=True,\n",
    "    neg_sampling_ratio=2.0  # Example negative sampling ratio\n",
    ")\n",
    "\n",
    "val_sample = next(iter(train_loader))\n",
    "print(val_sample)\n"
   ]
  },
  {
   "cell_type": "code",
   "execution_count": 501,
   "metadata": {},
   "outputs": [],
   "source": [
    "# Define the validation seed edges:\n",
    "edge_label_index = val_data[\"user\", \"rates\", \"movie\"].edge_label_index\n",
    "edge_label = val_data[\"user\", \"rates\", \"movie\"].edge_label\n",
    "val_loader = LinkNeighborLoader(\n",
    "    data=val_data,\n",
    "    num_neighbors=[20, 10],\n",
    "    edge_label_index=((\"user\", \"rates\", \"movie\"), edge_label_index),\n",
    "    # edge_label=edge_label,\n",
    "    batch_size=128*3,\n",
    "    shuffle=False,\n",
    "    neg_sampling_ratio=2.0,\n",
    ")\n",
    "val_sample = next(iter(val_loader))   "
   ]
  },
  {
   "cell_type": "code",
   "execution_count": 502,
   "metadata": {},
   "outputs": [
    {
     "data": {
      "text/plain": [
       "HeteroData(\n",
       "  user={\n",
       "    node_id=[604],\n",
       "    n_id=[604],\n",
       "    num_sampled_nodes=[4],\n",
       "  },\n",
       "  movie={\n",
       "    node_id=[2009],\n",
       "    x=[2009, 23],\n",
       "    n_id=[2009],\n",
       "    num_sampled_nodes=[4],\n",
       "  },\n",
       "  director={\n",
       "    node_id=[859],\n",
       "    x=[859, 2],\n",
       "    n_id=[859],\n",
       "    num_sampled_nodes=[4],\n",
       "  },\n",
       "  (user, rates, movie)={\n",
       "    edge_index=[2, 11369],\n",
       "    edge_label=[1152],\n",
       "    edge_label_index=[2, 1152],\n",
       "    e_id=[11369],\n",
       "    num_sampled_edges=[3],\n",
       "    input_id=[384],\n",
       "  },\n",
       "  (director, directs, movie)={\n",
       "    edge_index=[2, 1720],\n",
       "    edge_label=[780],\n",
       "    edge_label_index=[2, 780],\n",
       "    e_id=[1720],\n",
       "    num_sampled_edges=[3],\n",
       "  },\n",
       "  (movie, rev_rates, user)={\n",
       "    edge_index=[2, 8673],\n",
       "    e_id=[8673],\n",
       "    num_sampled_edges=[3],\n",
       "  },\n",
       "  (movie, rev_directs, director)={\n",
       "    edge_index=[2, 1802],\n",
       "    e_id=[1802],\n",
       "    num_sampled_edges=[3],\n",
       "  }\n",
       ")"
      ]
     },
     "execution_count": 502,
     "metadata": {},
     "output_type": "execute_result"
    }
   ],
   "source": [
    "val_sample"
   ]
  },
  {
   "cell_type": "code",
   "execution_count": 503,
   "metadata": {},
   "outputs": [
    {
     "name": "stdout",
     "output_type": "stream",
     "text": [
      "Model(\n",
      "  (movie_lin): Linear(in_features=23, out_features=32, bias=True)\n",
      "  (director_lin): Linear(in_features=2, out_features=32, bias=True)\n",
      "  (user_emb): Embedding(609, 32)\n",
      "  (movie_emb): Embedding(2427, 32)\n",
      "  (director_emb): Embedding(1229, 32)\n",
      "  (gnn): GraphModule(\n",
      "    (conv): ModuleList(\n",
      "      (0-2): 3 x ModuleDict(\n",
      "        (user__rates__movie): SAGEConv(32, 32, aggr=mean)\n",
      "        (director__directs__movie): SAGEConv(32, 32, aggr=mean)\n",
      "        (movie__rev_rates__user): SAGEConv(32, 32, aggr=mean)\n",
      "        (movie__rev_directs__director): SAGEConv(32, 32, aggr=mean)\n",
      "      )\n",
      "    )\n",
      "  )\n",
      "  (classifier): Classifier(\n",
      "    (fc1): Linear(in_features=64, out_features=32, bias=True)\n",
      "    (relu): ReLU()\n",
      "    (fc2): Linear(in_features=32, out_features=1, bias=True)\n",
      "  )\n",
      ")\n"
     ]
    }
   ],
   "source": [
    "from torch_geometric.nn import GraphConv, to_hetero, SAGEConv, GraphSAGE\n",
    "\n",
    "class GNN(torch.nn.Module):\n",
    "    def __init__(self, num_features, hidden_dim, layers):\n",
    "        super().__init__()\n",
    "        input_dim = num_features\n",
    "        self.conv = torch.nn.ModuleList()\n",
    "        for _ in range(layers):\n",
    "            self.conv.append(SAGEConv(input_dim, hidden_dim))\n",
    "            input_dim = hidden_dim\n",
    "    \n",
    "    def forward(self, x, edge_index):#, edge_weight):\n",
    "        for layer in self.conv:\n",
    "            x = layer(x, edge_index)\n",
    "            x = torch.relu(x)\n",
    "        return x\n",
    "\n",
    "class Classifier(torch.nn.Module):\n",
    "    def __init__(self, hidden_dim, num_classes):\n",
    "        super().__init__()\n",
    "        self.fc1 = torch.nn.Linear(2*hidden_dim, hidden_dim)\n",
    "        self.relu = torch.nn.ReLU()\n",
    "        self.fc2 = torch.nn.Linear(hidden_dim, num_classes)  # Final layer that outputs class scores\n",
    "\n",
    "    def forward(self, x_user: Tensor, x_movie: Tensor, edge_label_index: Tensor) -> Tensor:\n",
    "        # Extract features for users and movies according to the edge indices\n",
    "        edge_feat_user = x_user[edge_label_index[0]]\n",
    "        edge_feat_movie = x_movie[edge_label_index[1]]\n",
    "\n",
    "        # Concatenate user and movie features\n",
    "        x = torch.cat((edge_feat_user, edge_feat_movie), dim=1)  # Concatenation along the feature dimension\n",
    "\n",
    "        # Pass the concatenated vector through the dense layers\n",
    "        x = self.fc1(x)\n",
    "        x = self.relu(x)\n",
    "        x = self.fc2(x)\n",
    "        return x\n",
    "\n",
    "\n",
    "class Model(torch.nn.Module):\n",
    "    # TODO: add data in function header?\n",
    "    def __init__(self, num_features, hidden_dim, num_classes, layers):\n",
    "        super().__init__()\n",
    "        self.movie_lin = torch.nn.Linear(23, hidden_dim) # TODO: thats the number of neighbors?\n",
    "        self.director_lin = torch.nn.Linear(2, hidden_dim)\n",
    "        self.user_emb = torch.nn.Embedding(data['user'].num_nodes, hidden_dim)\n",
    "        self.movie_emb = torch.nn.Embedding(data['movie'].num_nodes, hidden_dim)\n",
    "        self.director_emb = torch.nn.Embedding(data['director'].num_nodes, hidden_dim)\n",
    "        self.gnn = GNN(num_features, hidden_dim, layers)\n",
    "        self.gnn = to_hetero(self.gnn, metadata=data.metadata(), aggr='sum')\n",
    "        self.classifier = Classifier(hidden_dim, num_classes)\n",
    "\n",
    "    def forward(self, data:HeteroData) -> Tensor:\n",
    "        x_dict = {\n",
    "            \"user\": self.user_emb(data['user'].node_id),\n",
    "            \"movie\": self.movie_lin(data['movie'].x) + self.movie_emb(data['movie'].node_id),\n",
    "            \"director\": self.director_lin(data['director'].x) + self.director_emb(data['director'].node_id) \n",
    "        }\n",
    "        x_dict = self.gnn(x_dict, data.edge_index_dict)#, data.edge_weight_dict)\n",
    "        pred = self.classifier(\n",
    "            x_dict[\"user\"],\n",
    "            x_dict[\"movie\"],\n",
    "            data[\"user\", \"rates\", \"movie\"].edge_label_index,\n",
    "        )\n",
    "        return pred\n",
    "\n",
    "model = Model(32, 64, 1, 3)\n",
    "print(model)"
   ]
  },
  {
   "cell_type": "code",
   "execution_count": 464,
   "metadata": {},
   "outputs": [
    {
     "name": "stdout",
     "output_type": "stream",
     "text": [
      "tensor(-0.1324, grad_fn=<SelectBackward0>)\n",
      "tensor(1.)\n",
      "tensor(0.6731, grad_fn=<BinaryCrossEntropyWithLogitsBackward0>)\n"
     ]
    }
   ],
   "source": [
    "from torch_geometric.nn import GraphConv, HeteroConv, to_hetero\n",
    "from torch.nn.functional import binary_cross_entropy_with_logits\n",
    "\n",
    "num_features = 64\n",
    "hidden_dim = 64\n",
    "\n",
    "model = Model(64, 64, 1, 8)\n",
    "sample = next(iter(train_loader))\n",
    "output = model(sample)\n",
    "target = sample['user', 'rates', 'movie'].edge_label\n",
    "print(output.squeeze(-1)[0])\n",
    "print(target[0])\n",
    "loss = binary_cross_entropy_with_logits(output.squeeze(-1), target)\n",
    "print(loss)"
   ]
  },
  {
   "cell_type": "code",
   "execution_count": 497,
   "metadata": {},
   "outputs": [
    {
     "name": "stdout",
     "output_type": "stream",
     "text": [
      "Device: cuda\n"
     ]
    },
    {
     "name": "stderr",
     "output_type": "stream",
     "text": [
      "100%|██████████████████████████████████████████| 49/49 [00:00<00:00, 226.35it/s]\n",
      "100%|██████████████████████████████████████████| 21/21 [00:00<00:00, 392.07it/s]\n"
     ]
    },
    {
     "name": "stdout",
     "output_type": "stream",
     "text": [
      "Epoch 001, Loss: 1.8949, Validation AUC: 0.5871\n"
     ]
    },
    {
     "name": "stderr",
     "output_type": "stream",
     "text": [
      "100%|██████████████████████████████████████████| 49/49 [00:00<00:00, 249.56it/s]\n",
      "100%|██████████████████████████████████████████| 21/21 [00:00<00:00, 239.08it/s]\n"
     ]
    },
    {
     "name": "stdout",
     "output_type": "stream",
     "text": [
      "Epoch 002, Loss: 1.4756, Validation AUC: 0.6072\n"
     ]
    },
    {
     "name": "stderr",
     "output_type": "stream",
     "text": [
      "100%|██████████████████████████████████████████| 49/49 [00:00<00:00, 258.46it/s]\n",
      "100%|██████████████████████████████████████████| 21/21 [00:00<00:00, 407.83it/s]\n"
     ]
    },
    {
     "name": "stdout",
     "output_type": "stream",
     "text": [
      "Epoch 003, Loss: 1.2512, Validation AUC: 0.6124\n"
     ]
    },
    {
     "name": "stderr",
     "output_type": "stream",
     "text": [
      "100%|██████████████████████████████████████████| 49/49 [00:00<00:00, 266.48it/s]\n",
      "100%|██████████████████████████████████████████| 21/21 [00:00<00:00, 410.58it/s]\n"
     ]
    },
    {
     "name": "stdout",
     "output_type": "stream",
     "text": [
      "Epoch 004, Loss: 1.1398, Validation AUC: 0.6163\n"
     ]
    },
    {
     "name": "stderr",
     "output_type": "stream",
     "text": [
      "100%|██████████████████████████████████████████| 49/49 [00:00<00:00, 261.02it/s]\n",
      "100%|██████████████████████████████████████████| 21/21 [00:00<00:00, 404.01it/s]\n"
     ]
    },
    {
     "name": "stdout",
     "output_type": "stream",
     "text": [
      "Epoch 005, Loss: 1.0997, Validation AUC: 0.6173\n"
     ]
    },
    {
     "name": "stderr",
     "output_type": "stream",
     "text": [
      "100%|██████████████████████████████████████████| 49/49 [00:00<00:00, 211.96it/s]\n",
      "100%|██████████████████████████████████████████| 21/21 [00:00<00:00, 412.39it/s]\n"
     ]
    },
    {
     "name": "stdout",
     "output_type": "stream",
     "text": [
      "Epoch 006, Loss: 1.0830, Validation AUC: 0.6213\n"
     ]
    },
    {
     "name": "stderr",
     "output_type": "stream",
     "text": [
      "100%|██████████████████████████████████████████| 49/49 [00:00<00:00, 252.37it/s]\n",
      "100%|██████████████████████████████████████████| 21/21 [00:00<00:00, 240.88it/s]\n"
     ]
    },
    {
     "name": "stdout",
     "output_type": "stream",
     "text": [
      "Epoch 007, Loss: 1.0497, Validation AUC: 0.6222\n"
     ]
    },
    {
     "name": "stderr",
     "output_type": "stream",
     "text": [
      "100%|██████████████████████████████████████████| 49/49 [00:00<00:00, 253.89it/s]\n",
      "100%|██████████████████████████████████████████| 21/21 [00:00<00:00, 402.94it/s]\n"
     ]
    },
    {
     "name": "stdout",
     "output_type": "stream",
     "text": [
      "Epoch 008, Loss: 1.0310, Validation AUC: 0.6245\n"
     ]
    },
    {
     "name": "stderr",
     "output_type": "stream",
     "text": [
      "100%|██████████████████████████████████████████| 49/49 [00:00<00:00, 292.29it/s]\n",
      "100%|██████████████████████████████████████████| 21/21 [00:00<00:00, 429.00it/s]\n"
     ]
    },
    {
     "name": "stdout",
     "output_type": "stream",
     "text": [
      "Epoch 009, Loss: 1.0082, Validation AUC: 0.6206\n"
     ]
    },
    {
     "name": "stderr",
     "output_type": "stream",
     "text": [
      "100%|██████████████████████████████████████████| 49/49 [00:00<00:00, 271.69it/s]\n",
      "100%|██████████████████████████████████████████| 21/21 [00:00<00:00, 238.60it/s]\n"
     ]
    },
    {
     "name": "stdout",
     "output_type": "stream",
     "text": [
      "Epoch 010, Loss: 0.9895, Validation AUC: 0.6292\n"
     ]
    },
    {
     "name": "stderr",
     "output_type": "stream",
     "text": [
      "100%|██████████████████████████████████████████| 49/49 [00:00<00:00, 235.07it/s]\n",
      "100%|██████████████████████████████████████████| 21/21 [00:00<00:00, 419.05it/s]\n"
     ]
    },
    {
     "name": "stdout",
     "output_type": "stream",
     "text": [
      "Epoch 011, Loss: 1.0005, Validation AUC: 0.6233\n"
     ]
    },
    {
     "name": "stderr",
     "output_type": "stream",
     "text": [
      "100%|██████████████████████████████████████████| 49/49 [00:00<00:00, 300.76it/s]\n",
      "100%|██████████████████████████████████████████| 21/21 [00:00<00:00, 419.47it/s]\n"
     ]
    },
    {
     "name": "stdout",
     "output_type": "stream",
     "text": [
      "Epoch 012, Loss: 0.9857, Validation AUC: 0.6202\n"
     ]
    },
    {
     "name": "stderr",
     "output_type": "stream",
     "text": [
      "100%|██████████████████████████████████████████| 49/49 [00:00<00:00, 271.83it/s]\n",
      "100%|██████████████████████████████████████████| 21/21 [00:00<00:00, 416.39it/s]\n"
     ]
    },
    {
     "name": "stdout",
     "output_type": "stream",
     "text": [
      "Epoch 013, Loss: 0.9453, Validation AUC: 0.6221\n"
     ]
    },
    {
     "name": "stderr",
     "output_type": "stream",
     "text": [
      "100%|██████████████████████████████████████████| 49/49 [00:00<00:00, 227.02it/s]\n",
      "100%|██████████████████████████████████████████| 21/21 [00:00<00:00, 427.63it/s]\n"
     ]
    },
    {
     "name": "stdout",
     "output_type": "stream",
     "text": [
      "Epoch 014, Loss: 0.9738, Validation AUC: 0.6260\n"
     ]
    },
    {
     "name": "stderr",
     "output_type": "stream",
     "text": [
      "100%|██████████████████████████████████████████| 49/49 [00:00<00:00, 273.33it/s]\n",
      "100%|██████████████████████████████████████████| 21/21 [00:00<00:00, 421.98it/s]"
     ]
    },
    {
     "name": "stdout",
     "output_type": "stream",
     "text": [
      "Epoch 015, Loss: 0.9399, Validation AUC: 0.6260\n"
     ]
    },
    {
     "name": "stderr",
     "output_type": "stream",
     "text": [
      "\n"
     ]
    }
   ],
   "source": [
    "import tqdm\n",
    "import torch.nn.functional as F\n",
    "from sklearn.metrics import roc_auc_score, confusion_matrix\n",
    "\n",
    "device = torch.device(\"cuda\" if torch.cuda.is_available() else 'cpu')\n",
    "print(f'Device: {device}')\n",
    "\n",
    "#model = torch.load(\"./model/auc_8092.pt\")\n",
    "model = model.to(device)\n",
    "optimizer = torch.optim.Adam(model.parameters(), lr=0.001)\n",
    "save = False\n",
    "\n",
    "\n",
    "for epoch in range(15):\n",
    "    total_loss = 0\n",
    "    total_examples = 0\n",
    "    model.train()\n",
    "    for train_sample in tqdm.tqdm(train_loader):\n",
    "        optimizer.zero_grad()\n",
    "        train_sample.to(device)\n",
    "        pred = model(train_sample)\n",
    "        label = train_sample['user', 'rates', 'movie'].edge_label\n",
    "        loss = F.binary_cross_entropy_with_logits(pred, label)\n",
    "        loss.backward()\n",
    "        optimizer.step()\n",
    "        total_loss += loss.item() * label.size(0) # TODO: numel?!\n",
    "        total_examples += label.size(0)\n",
    "\n",
    "    \n",
    "    # Validation phase\n",
    "    model.eval()\n",
    "    preds = []\n",
    "    ground_truths = []\n",
    "    for sampled_data in tqdm.tqdm(val_loader):\n",
    "        with torch.no_grad():\n",
    "            sampled_data.to(device)\n",
    "            preds.append(model(sampled_data))\n",
    "            ground_truths.append(sampled_data[\"user\", \"rates\", \"movie\"].edge_label)\n",
    "    pred = torch.sigmoid(pred)\n",
    "    pred = torch.cat(preds, dim=0).cpu().numpy()\n",
    "    ground_truth = torch.cat(ground_truths, dim=0).cpu().numpy()\n",
    "    auc = roc_auc_score(ground_truth, pred)\n",
    "    print(f'Epoch {epoch + 1:03d}, Loss: {total_loss / len(train_loader.dataset):.4f}, Validation AUC: {auc:.4f}')\n",
    "    \n",
    "\n",
    "if save: torch.save(model, f\"./model/auc_{int(auc*10000)}.pt\")"
   ]
  },
  {
   "cell_type": "code",
   "execution_count": null,
   "metadata": {},
   "outputs": [],
   "source": []
  },
  {
   "cell_type": "code",
   "execution_count": null,
   "metadata": {},
   "outputs": [],
   "source": []
  }
 ],
 "metadata": {
  "kernelspec": {
   "display_name": "Python 3 (ipykernel)",
   "language": "python",
   "name": "python3"
  },
  "language_info": {
   "codemirror_mode": {
    "name": "ipython",
    "version": 3
   },
   "file_extension": ".py",
   "mimetype": "text/x-python",
   "name": "python",
   "nbconvert_exporter": "python",
   "pygments_lexer": "ipython3",
   "version": "3.10.12"
  }
 },
 "nbformat": 4,
 "nbformat_minor": 2
}
